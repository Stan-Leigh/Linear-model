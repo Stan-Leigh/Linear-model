{
 "cells": [
  {
   "cell_type": "markdown",
   "id": "77757457",
   "metadata": {},
   "source": [
    "# Olympics Dataset\n",
    "\n",
    "In this project, I use different methods to implement Linear Regression on the Olympics dataset. I then proceed to predict the number of medals a country would win using the number of athletes and number of medals won by the country in the previous year."
   ]
  },
  {
   "cell_type": "code",
   "execution_count": 211,
   "id": "20739637-433e-463e-b6c1-2447a9979dca",
   "metadata": {},
   "outputs": [],
   "source": [
    "# import relevant libraries\n",
    "\n",
    "import pandas as pd\n",
    "import numpy as np\n",
    "import matplotlib.pyplot as plt\n",
    "import seaborn as sns\n",
    "import statsmodels.api as sm\n",
    "import warnings\n",
    "from sklearn.linear_model import LinearRegression\n",
    "from sklearn.metrics import mean_absolute_error as MAE, mean_squared_error as MSE, accuracy_score\n",
    "\n",
    "warnings.filterwarnings('ignore')\n",
    "%matplotlib inline"
   ]
  },
  {
   "cell_type": "code",
   "execution_count": 212,
   "id": "6cbf1225-77c9-49a1-8f52-62bfab03d31e",
   "metadata": {},
   "outputs": [],
   "source": [
    "# read in the data\n",
    "teams = pd.read_csv(\"teams.csv\")"
   ]
  },
  {
   "cell_type": "code",
   "execution_count": 213,
   "id": "94360ee7-340b-4de9-a024-b945f2798031",
   "metadata": {},
   "outputs": [
    {
     "data": {
      "text/html": [
       "<div>\n",
       "<style scoped>\n",
       "    .dataframe tbody tr th:only-of-type {\n",
       "        vertical-align: middle;\n",
       "    }\n",
       "\n",
       "    .dataframe tbody tr th {\n",
       "        vertical-align: top;\n",
       "    }\n",
       "\n",
       "    .dataframe thead th {\n",
       "        text-align: right;\n",
       "    }\n",
       "</style>\n",
       "<table border=\"1\" class=\"dataframe\">\n",
       "  <thead>\n",
       "    <tr style=\"text-align: right;\">\n",
       "      <th></th>\n",
       "      <th>team</th>\n",
       "      <th>year</th>\n",
       "      <th>athletes</th>\n",
       "      <th>events</th>\n",
       "      <th>age</th>\n",
       "      <th>height</th>\n",
       "      <th>weight</th>\n",
       "      <th>prev_medals</th>\n",
       "      <th>medals</th>\n",
       "    </tr>\n",
       "  </thead>\n",
       "  <tbody>\n",
       "    <tr>\n",
       "      <th>0</th>\n",
       "      <td>AFG</td>\n",
       "      <td>1964</td>\n",
       "      <td>8</td>\n",
       "      <td>8</td>\n",
       "      <td>22.0</td>\n",
       "      <td>161.0</td>\n",
       "      <td>64.2</td>\n",
       "      <td>0.0</td>\n",
       "      <td>0</td>\n",
       "    </tr>\n",
       "    <tr>\n",
       "      <th>1</th>\n",
       "      <td>AFG</td>\n",
       "      <td>1968</td>\n",
       "      <td>5</td>\n",
       "      <td>5</td>\n",
       "      <td>23.2</td>\n",
       "      <td>170.2</td>\n",
       "      <td>70.0</td>\n",
       "      <td>0.0</td>\n",
       "      <td>0</td>\n",
       "    </tr>\n",
       "    <tr>\n",
       "      <th>2</th>\n",
       "      <td>AFG</td>\n",
       "      <td>1972</td>\n",
       "      <td>8</td>\n",
       "      <td>8</td>\n",
       "      <td>29.0</td>\n",
       "      <td>168.3</td>\n",
       "      <td>63.8</td>\n",
       "      <td>0.0</td>\n",
       "      <td>0</td>\n",
       "    </tr>\n",
       "    <tr>\n",
       "      <th>3</th>\n",
       "      <td>AFG</td>\n",
       "      <td>1980</td>\n",
       "      <td>11</td>\n",
       "      <td>11</td>\n",
       "      <td>23.6</td>\n",
       "      <td>168.4</td>\n",
       "      <td>63.2</td>\n",
       "      <td>0.0</td>\n",
       "      <td>0</td>\n",
       "    </tr>\n",
       "    <tr>\n",
       "      <th>4</th>\n",
       "      <td>AFG</td>\n",
       "      <td>2004</td>\n",
       "      <td>5</td>\n",
       "      <td>5</td>\n",
       "      <td>18.6</td>\n",
       "      <td>170.8</td>\n",
       "      <td>64.8</td>\n",
       "      <td>0.0</td>\n",
       "      <td>0</td>\n",
       "    </tr>\n",
       "  </tbody>\n",
       "</table>\n",
       "</div>"
      ],
      "text/plain": [
       "  team  year  athletes  events   age  height  weight  prev_medals  medals\n",
       "0  AFG  1964         8       8  22.0   161.0    64.2          0.0       0\n",
       "1  AFG  1968         5       5  23.2   170.2    70.0          0.0       0\n",
       "2  AFG  1972         8       8  29.0   168.3    63.8          0.0       0\n",
       "3  AFG  1980        11      11  23.6   168.4    63.2          0.0       0\n",
       "4  AFG  2004         5       5  18.6   170.8    64.8          0.0       0"
      ]
     },
     "execution_count": 213,
     "metadata": {},
     "output_type": "execute_result"
    }
   ],
   "source": [
    "# view first few rows\n",
    "teams.head()"
   ]
  },
  {
   "cell_type": "code",
   "execution_count": 214,
   "id": "3779be7f",
   "metadata": {},
   "outputs": [
    {
     "name": "stdout",
     "output_type": "stream",
     "text": [
      "<class 'pandas.core.frame.DataFrame'>\n",
      "RangeIndex: 2014 entries, 0 to 2013\n",
      "Data columns (total 9 columns):\n",
      " #   Column       Non-Null Count  Dtype  \n",
      "---  ------       --------------  -----  \n",
      " 0   team         2014 non-null   object \n",
      " 1   year         2014 non-null   int64  \n",
      " 2   athletes     2014 non-null   int64  \n",
      " 3   events       2014 non-null   int64  \n",
      " 4   age          2014 non-null   float64\n",
      " 5   height       2014 non-null   float64\n",
      " 6   weight       2014 non-null   float64\n",
      " 7   prev_medals  2014 non-null   float64\n",
      " 8   medals       2014 non-null   int64  \n",
      "dtypes: float64(4), int64(4), object(1)\n",
      "memory usage: 141.7+ KB\n"
     ]
    }
   ],
   "source": [
    "# check for null values\n",
    "teams.info()"
   ]
  },
  {
   "cell_type": "code",
   "execution_count": 215,
   "id": "63d54b71",
   "metadata": {},
   "outputs": [
    {
     "data": {
      "text/html": [
       "<div>\n",
       "<style scoped>\n",
       "    .dataframe tbody tr th:only-of-type {\n",
       "        vertical-align: middle;\n",
       "    }\n",
       "\n",
       "    .dataframe tbody tr th {\n",
       "        vertical-align: top;\n",
       "    }\n",
       "\n",
       "    .dataframe thead th {\n",
       "        text-align: right;\n",
       "    }\n",
       "</style>\n",
       "<table border=\"1\" class=\"dataframe\">\n",
       "  <thead>\n",
       "    <tr style=\"text-align: right;\">\n",
       "      <th></th>\n",
       "      <th>team</th>\n",
       "      <th>year</th>\n",
       "      <th>athletes</th>\n",
       "      <th>events</th>\n",
       "      <th>age</th>\n",
       "      <th>height</th>\n",
       "      <th>weight</th>\n",
       "      <th>prev_medals</th>\n",
       "      <th>medals</th>\n",
       "    </tr>\n",
       "  </thead>\n",
       "  <tbody>\n",
       "    <tr>\n",
       "      <th>count</th>\n",
       "      <td>2014</td>\n",
       "      <td>2014.000000</td>\n",
       "      <td>2014.000000</td>\n",
       "      <td>2014.000000</td>\n",
       "      <td>2014.000000</td>\n",
       "      <td>2014.000000</td>\n",
       "      <td>2014.000000</td>\n",
       "      <td>2014.000000</td>\n",
       "      <td>2014.000000</td>\n",
       "    </tr>\n",
       "    <tr>\n",
       "      <th>unique</th>\n",
       "      <td>214</td>\n",
       "      <td>NaN</td>\n",
       "      <td>NaN</td>\n",
       "      <td>NaN</td>\n",
       "      <td>NaN</td>\n",
       "      <td>NaN</td>\n",
       "      <td>NaN</td>\n",
       "      <td>NaN</td>\n",
       "      <td>NaN</td>\n",
       "    </tr>\n",
       "    <tr>\n",
       "      <th>top</th>\n",
       "      <td>MEX</td>\n",
       "      <td>NaN</td>\n",
       "      <td>NaN</td>\n",
       "      <td>NaN</td>\n",
       "      <td>NaN</td>\n",
       "      <td>NaN</td>\n",
       "      <td>NaN</td>\n",
       "      <td>NaN</td>\n",
       "      <td>NaN</td>\n",
       "    </tr>\n",
       "    <tr>\n",
       "      <th>freq</th>\n",
       "      <td>14</td>\n",
       "      <td>NaN</td>\n",
       "      <td>NaN</td>\n",
       "      <td>NaN</td>\n",
       "      <td>NaN</td>\n",
       "      <td>NaN</td>\n",
       "      <td>NaN</td>\n",
       "      <td>NaN</td>\n",
       "      <td>NaN</td>\n",
       "    </tr>\n",
       "    <tr>\n",
       "      <th>mean</th>\n",
       "      <td>NaN</td>\n",
       "      <td>1995.227408</td>\n",
       "      <td>76.329692</td>\n",
       "      <td>36.877855</td>\n",
       "      <td>24.812612</td>\n",
       "      <td>173.955164</td>\n",
       "      <td>69.328997</td>\n",
       "      <td>10.248759</td>\n",
       "      <td>10.990070</td>\n",
       "    </tr>\n",
       "    <tr>\n",
       "      <th>std</th>\n",
       "      <td>NaN</td>\n",
       "      <td>15.227727</td>\n",
       "      <td>129.799427</td>\n",
       "      <td>50.130877</td>\n",
       "      <td>2.758258</td>\n",
       "      <td>5.262469</td>\n",
       "      <td>7.494740</td>\n",
       "      <td>31.951920</td>\n",
       "      <td>33.627528</td>\n",
       "    </tr>\n",
       "    <tr>\n",
       "      <th>min</th>\n",
       "      <td>NaN</td>\n",
       "      <td>1964.000000</td>\n",
       "      <td>1.000000</td>\n",
       "      <td>1.000000</td>\n",
       "      <td>17.000000</td>\n",
       "      <td>151.000000</td>\n",
       "      <td>43.300000</td>\n",
       "      <td>0.000000</td>\n",
       "      <td>0.000000</td>\n",
       "    </tr>\n",
       "    <tr>\n",
       "      <th>25%</th>\n",
       "      <td>NaN</td>\n",
       "      <td>1984.000000</td>\n",
       "      <td>7.000000</td>\n",
       "      <td>6.000000</td>\n",
       "      <td>23.300000</td>\n",
       "      <td>170.600000</td>\n",
       "      <td>64.700000</td>\n",
       "      <td>0.000000</td>\n",
       "      <td>0.000000</td>\n",
       "    </tr>\n",
       "    <tr>\n",
       "      <th>50%</th>\n",
       "      <td>NaN</td>\n",
       "      <td>1996.000000</td>\n",
       "      <td>21.000000</td>\n",
       "      <td>14.000000</td>\n",
       "      <td>24.700000</td>\n",
       "      <td>174.400000</td>\n",
       "      <td>69.500000</td>\n",
       "      <td>0.000000</td>\n",
       "      <td>0.000000</td>\n",
       "    </tr>\n",
       "    <tr>\n",
       "      <th>75%</th>\n",
       "      <td>NaN</td>\n",
       "      <td>2008.000000</td>\n",
       "      <td>74.750000</td>\n",
       "      <td>47.000000</td>\n",
       "      <td>26.100000</td>\n",
       "      <td>177.300000</td>\n",
       "      <td>73.400000</td>\n",
       "      <td>4.000000</td>\n",
       "      <td>5.000000</td>\n",
       "    </tr>\n",
       "    <tr>\n",
       "      <th>max</th>\n",
       "      <td>NaN</td>\n",
       "      <td>2016.000000</td>\n",
       "      <td>839.000000</td>\n",
       "      <td>270.000000</td>\n",
       "      <td>66.000000</td>\n",
       "      <td>193.000000</td>\n",
       "      <td>148.000000</td>\n",
       "      <td>442.000000</td>\n",
       "      <td>442.000000</td>\n",
       "    </tr>\n",
       "  </tbody>\n",
       "</table>\n",
       "</div>"
      ],
      "text/plain": [
       "        team         year     athletes       events          age       height  \\\n",
       "count   2014  2014.000000  2014.000000  2014.000000  2014.000000  2014.000000   \n",
       "unique   214          NaN          NaN          NaN          NaN          NaN   \n",
       "top      MEX          NaN          NaN          NaN          NaN          NaN   \n",
       "freq      14          NaN          NaN          NaN          NaN          NaN   \n",
       "mean     NaN  1995.227408    76.329692    36.877855    24.812612   173.955164   \n",
       "std      NaN    15.227727   129.799427    50.130877     2.758258     5.262469   \n",
       "min      NaN  1964.000000     1.000000     1.000000    17.000000   151.000000   \n",
       "25%      NaN  1984.000000     7.000000     6.000000    23.300000   170.600000   \n",
       "50%      NaN  1996.000000    21.000000    14.000000    24.700000   174.400000   \n",
       "75%      NaN  2008.000000    74.750000    47.000000    26.100000   177.300000   \n",
       "max      NaN  2016.000000   839.000000   270.000000    66.000000   193.000000   \n",
       "\n",
       "             weight  prev_medals       medals  \n",
       "count   2014.000000  2014.000000  2014.000000  \n",
       "unique          NaN          NaN          NaN  \n",
       "top             NaN          NaN          NaN  \n",
       "freq            NaN          NaN          NaN  \n",
       "mean      69.328997    10.248759    10.990070  \n",
       "std        7.494740    31.951920    33.627528  \n",
       "min       43.300000     0.000000     0.000000  \n",
       "25%       64.700000     0.000000     0.000000  \n",
       "50%       69.500000     0.000000     0.000000  \n",
       "75%       73.400000     4.000000     5.000000  \n",
       "max      148.000000   442.000000   442.000000  "
      ]
     },
     "execution_count": 215,
     "metadata": {},
     "output_type": "execute_result"
    }
   ],
   "source": [
    "# statistical summary of the dataset\n",
    "teams.describe(include='all')"
   ]
  },
  {
   "cell_type": "code",
   "execution_count": 216,
   "id": "ef78bc32",
   "metadata": {},
   "outputs": [
    {
     "data": {
      "text/plain": [
       "Text(0, 0.5, 'Medals')"
      ]
     },
     "execution_count": 216,
     "metadata": {},
     "output_type": "execute_result"
    },
    {
     "data": {
      "image/png": "[encoded data removed]",
      "text/plain": [
       "<Figure size 720x360 with 1 Axes>"
      ]
     },
     "metadata": {
      "needs_background": "light"
     },
     "output_type": "display_data"
    }
   ],
   "source": [
    "# check for relationship between number of athletes and number of medals\n",
    "color = sns.color_palette()[9]\n",
    "plt.figure(figsize=(10, 5))\n",
    "sns.scatterplot(x='athletes', y='medals', data=teams, color=color)\n",
    "\n",
    "plt.title('Relationship between Number of athletes registered and Number of medals won')\n",
    "plt.xlabel('Athletes')\n",
    "plt.ylabel('Medals')"
   ]
  },
  {
   "cell_type": "markdown",
   "id": "d6f2c4ca",
   "metadata": {},
   "source": [
    "## Linear Regression by hand"
   ]
  },
  {
   "cell_type": "code",
   "execution_count": 217,
   "id": "0df16856-33e9-4b25-87e9-7cd718c0075a",
   "metadata": {},
   "outputs": [],
   "source": [
    "X = teams[[\"athletes\", \"prev_medals\"]].copy()\n",
    "y = teams[[\"medals\"]].copy()"
   ]
  },
  {
   "cell_type": "code",
   "execution_count": 218,
   "id": "c0568ece-ef06-48c8-bada-512ace70fbef",
   "metadata": {},
   "outputs": [
    {
     "data": {
      "text/html": [
       "<div>\n",
       "<style scoped>\n",
       "    .dataframe tbody tr th:only-of-type {\n",
       "        vertical-align: middle;\n",
       "    }\n",
       "\n",
       "    .dataframe tbody tr th {\n",
       "        vertical-align: top;\n",
       "    }\n",
       "\n",
       "    .dataframe thead th {\n",
       "        text-align: right;\n",
       "    }\n",
       "</style>\n",
       "<table border=\"1\" class=\"dataframe\">\n",
       "  <thead>\n",
       "    <tr style=\"text-align: right;\">\n",
       "      <th></th>\n",
       "      <th>athletes</th>\n",
       "      <th>prev_medals</th>\n",
       "    </tr>\n",
       "  </thead>\n",
       "  <tbody>\n",
       "    <tr>\n",
       "      <th>0</th>\n",
       "      <td>8</td>\n",
       "      <td>0.0</td>\n",
       "    </tr>\n",
       "    <tr>\n",
       "      <th>1</th>\n",
       "      <td>5</td>\n",
       "      <td>0.0</td>\n",
       "    </tr>\n",
       "    <tr>\n",
       "      <th>2</th>\n",
       "      <td>8</td>\n",
       "      <td>0.0</td>\n",
       "    </tr>\n",
       "    <tr>\n",
       "      <th>3</th>\n",
       "      <td>11</td>\n",
       "      <td>0.0</td>\n",
       "    </tr>\n",
       "    <tr>\n",
       "      <th>4</th>\n",
       "      <td>5</td>\n",
       "      <td>0.0</td>\n",
       "    </tr>\n",
       "  </tbody>\n",
       "</table>\n",
       "</div>"
      ],
      "text/plain": [
       "   athletes  prev_medals\n",
       "0         8          0.0\n",
       "1         5          0.0\n",
       "2         8          0.0\n",
       "3        11          0.0\n",
       "4         5          0.0"
      ]
     },
     "execution_count": 218,
     "metadata": {},
     "output_type": "execute_result"
    }
   ],
   "source": [
    "X.head()"
   ]
  },
  {
   "cell_type": "code",
   "execution_count": 219,
   "id": "09a54109-3974-4fe3-bcc2-4790b643caf7",
   "metadata": {},
   "outputs": [
    {
     "data": {
      "text/html": [
       "<div>\n",
       "<style scoped>\n",
       "    .dataframe tbody tr th:only-of-type {\n",
       "        vertical-align: middle;\n",
       "    }\n",
       "\n",
       "    .dataframe tbody tr th {\n",
       "        vertical-align: top;\n",
       "    }\n",
       "\n",
       "    .dataframe thead th {\n",
       "        text-align: right;\n",
       "    }\n",
       "</style>\n",
       "<table border=\"1\" class=\"dataframe\">\n",
       "  <thead>\n",
       "    <tr style=\"text-align: right;\">\n",
       "      <th></th>\n",
       "      <th>medals</th>\n",
       "    </tr>\n",
       "  </thead>\n",
       "  <tbody>\n",
       "    <tr>\n",
       "      <th>0</th>\n",
       "      <td>0</td>\n",
       "    </tr>\n",
       "    <tr>\n",
       "      <th>1</th>\n",
       "      <td>0</td>\n",
       "    </tr>\n",
       "    <tr>\n",
       "      <th>2</th>\n",
       "      <td>0</td>\n",
       "    </tr>\n",
       "    <tr>\n",
       "      <th>3</th>\n",
       "      <td>0</td>\n",
       "    </tr>\n",
       "    <tr>\n",
       "      <th>4</th>\n",
       "      <td>0</td>\n",
       "    </tr>\n",
       "  </tbody>\n",
       "</table>\n",
       "</div>"
      ],
      "text/plain": [
       "   medals\n",
       "0       0\n",
       "1       0\n",
       "2       0\n",
       "3       0\n",
       "4       0"
      ]
     },
     "execution_count": 219,
     "metadata": {},
     "output_type": "execute_result"
    }
   ],
   "source": [
    "y.head()"
   ]
  },
  {
   "cell_type": "markdown",
   "id": "dd4f8a49",
   "metadata": {},
   "source": [
    "Next, we create a new column for X. This column would contain only 1's and serves as a column constant. This column constant makes it feasible to perform matrix multiplication with the slope and intercept term of the straight line formula."
   ]
  },
  {
   "cell_type": "code",
   "execution_count": 220,
   "id": "d14399f6-4990-4b28-a426-53d373885c6b",
   "metadata": {},
   "outputs": [],
   "source": [
    "# create a column of all 1's.\n",
    "X[\"intercept\"] = 1"
   ]
  },
  {
   "cell_type": "code",
   "execution_count": 221,
   "id": "92c5a786-e05c-4868-8583-e0b2d8d39492",
   "metadata": {},
   "outputs": [],
   "source": [
    "X = X[[\"intercept\", \"athletes\", \"prev_medals\"]]"
   ]
  },
  {
   "cell_type": "code",
   "execution_count": 222,
   "id": "ca4e389b-6e48-4e48-a0eb-d00951613ff0",
   "metadata": {},
   "outputs": [
    {
     "data": {
      "text/html": [
       "<div>\n",
       "<style scoped>\n",
       "    .dataframe tbody tr th:only-of-type {\n",
       "        vertical-align: middle;\n",
       "    }\n",
       "\n",
       "    .dataframe tbody tr th {\n",
       "        vertical-align: top;\n",
       "    }\n",
       "\n",
       "    .dataframe thead th {\n",
       "        text-align: right;\n",
       "    }\n",
       "</style>\n",
       "<table border=\"1\" class=\"dataframe\">\n",
       "  <thead>\n",
       "    <tr style=\"text-align: right;\">\n",
       "      <th></th>\n",
       "      <th>intercept</th>\n",
       "      <th>athletes</th>\n",
       "      <th>prev_medals</th>\n",
       "    </tr>\n",
       "  </thead>\n",
       "  <tbody>\n",
       "    <tr>\n",
       "      <th>0</th>\n",
       "      <td>1</td>\n",
       "      <td>8</td>\n",
       "      <td>0.0</td>\n",
       "    </tr>\n",
       "    <tr>\n",
       "      <th>1</th>\n",
       "      <td>1</td>\n",
       "      <td>5</td>\n",
       "      <td>0.0</td>\n",
       "    </tr>\n",
       "    <tr>\n",
       "      <th>2</th>\n",
       "      <td>1</td>\n",
       "      <td>8</td>\n",
       "      <td>0.0</td>\n",
       "    </tr>\n",
       "    <tr>\n",
       "      <th>3</th>\n",
       "      <td>1</td>\n",
       "      <td>11</td>\n",
       "      <td>0.0</td>\n",
       "    </tr>\n",
       "    <tr>\n",
       "      <th>4</th>\n",
       "      <td>1</td>\n",
       "      <td>5</td>\n",
       "      <td>0.0</td>\n",
       "    </tr>\n",
       "  </tbody>\n",
       "</table>\n",
       "</div>"
      ],
      "text/plain": [
       "   intercept  athletes  prev_medals\n",
       "0          1         8          0.0\n",
       "1          1         5          0.0\n",
       "2          1         8          0.0\n",
       "3          1        11          0.0\n",
       "4          1         5          0.0"
      ]
     },
     "execution_count": 222,
     "metadata": {},
     "output_type": "execute_result"
    }
   ],
   "source": [
    "X.head()"
   ]
  },
  {
   "cell_type": "code",
   "execution_count": 223,
   "id": "1ba1ee42-d03a-44b0-8b15-02688e7685b1",
   "metadata": {},
   "outputs": [],
   "source": [
    "# get the transpose of T\n",
    "X_T = X.T"
   ]
  },
  {
   "cell_type": "code",
   "execution_count": 224,
   "id": "90a79abd-45f4-4577-8fdb-211fa3ae08c0",
   "metadata": {},
   "outputs": [
    {
     "data": {
      "text/html": [
       "<div>\n",
       "<style scoped>\n",
       "    .dataframe tbody tr th:only-of-type {\n",
       "        vertical-align: middle;\n",
       "    }\n",
       "\n",
       "    .dataframe tbody tr th {\n",
       "        vertical-align: top;\n",
       "    }\n",
       "\n",
       "    .dataframe thead th {\n",
       "        text-align: right;\n",
       "    }\n",
       "</style>\n",
       "<table border=\"1\" class=\"dataframe\">\n",
       "  <thead>\n",
       "    <tr style=\"text-align: right;\">\n",
       "      <th></th>\n",
       "      <th>0</th>\n",
       "      <th>1</th>\n",
       "      <th>2</th>\n",
       "      <th>3</th>\n",
       "      <th>4</th>\n",
       "      <th>5</th>\n",
       "      <th>6</th>\n",
       "      <th>7</th>\n",
       "      <th>8</th>\n",
       "      <th>9</th>\n",
       "      <th>...</th>\n",
       "      <th>2004</th>\n",
       "      <th>2005</th>\n",
       "      <th>2006</th>\n",
       "      <th>2007</th>\n",
       "      <th>2008</th>\n",
       "      <th>2009</th>\n",
       "      <th>2010</th>\n",
       "      <th>2011</th>\n",
       "      <th>2012</th>\n",
       "      <th>2013</th>\n",
       "    </tr>\n",
       "  </thead>\n",
       "  <tbody>\n",
       "    <tr>\n",
       "      <th>intercept</th>\n",
       "      <td>1.0</td>\n",
       "      <td>1.0</td>\n",
       "      <td>1.0</td>\n",
       "      <td>1.0</td>\n",
       "      <td>1.0</td>\n",
       "      <td>1.0</td>\n",
       "      <td>1.0</td>\n",
       "      <td>1.0</td>\n",
       "      <td>1.0</td>\n",
       "      <td>1.0</td>\n",
       "      <td>...</td>\n",
       "      <td>1.0</td>\n",
       "      <td>1.0</td>\n",
       "      <td>1.0</td>\n",
       "      <td>1.0</td>\n",
       "      <td>1.0</td>\n",
       "      <td>1.0</td>\n",
       "      <td>1.0</td>\n",
       "      <td>1.0</td>\n",
       "      <td>1.0</td>\n",
       "      <td>1.0</td>\n",
       "    </tr>\n",
       "    <tr>\n",
       "      <th>athletes</th>\n",
       "      <td>8.0</td>\n",
       "      <td>5.0</td>\n",
       "      <td>8.0</td>\n",
       "      <td>11.0</td>\n",
       "      <td>5.0</td>\n",
       "      <td>4.0</td>\n",
       "      <td>6.0</td>\n",
       "      <td>3.0</td>\n",
       "      <td>4.0</td>\n",
       "      <td>5.0</td>\n",
       "      <td>...</td>\n",
       "      <td>52.0</td>\n",
       "      <td>20.0</td>\n",
       "      <td>47.0</td>\n",
       "      <td>28.0</td>\n",
       "      <td>21.0</td>\n",
       "      <td>26.0</td>\n",
       "      <td>14.0</td>\n",
       "      <td>16.0</td>\n",
       "      <td>9.0</td>\n",
       "      <td>31.0</td>\n",
       "    </tr>\n",
       "    <tr>\n",
       "      <th>prev_medals</th>\n",
       "      <td>0.0</td>\n",
       "      <td>0.0</td>\n",
       "      <td>0.0</td>\n",
       "      <td>0.0</td>\n",
       "      <td>0.0</td>\n",
       "      <td>0.0</td>\n",
       "      <td>1.0</td>\n",
       "      <td>1.0</td>\n",
       "      <td>0.0</td>\n",
       "      <td>0.0</td>\n",
       "      <td>...</td>\n",
       "      <td>0.0</td>\n",
       "      <td>15.0</td>\n",
       "      <td>0.0</td>\n",
       "      <td>0.0</td>\n",
       "      <td>0.0</td>\n",
       "      <td>0.0</td>\n",
       "      <td>0.0</td>\n",
       "      <td>3.0</td>\n",
       "      <td>4.0</td>\n",
       "      <td>0.0</td>\n",
       "    </tr>\n",
       "  </tbody>\n",
       "</table>\n",
       "<p>3 rows × 2014 columns</p>\n",
       "</div>"
      ],
      "text/plain": [
       "             0     1     2     3     4     5     6     7     8     9     ...  \\\n",
       "intercept     1.0   1.0   1.0   1.0   1.0   1.0   1.0   1.0   1.0   1.0  ...   \n",
       "athletes      8.0   5.0   8.0  11.0   5.0   4.0   6.0   3.0   4.0   5.0  ...   \n",
       "prev_medals   0.0   0.0   0.0   0.0   0.0   0.0   1.0   1.0   0.0   0.0  ...   \n",
       "\n",
       "             2004  2005  2006  2007  2008  2009  2010  2011  2012  2013  \n",
       "intercept     1.0   1.0   1.0   1.0   1.0   1.0   1.0   1.0   1.0   1.0  \n",
       "athletes     52.0  20.0  47.0  28.0  21.0  26.0  14.0  16.0   9.0  31.0  \n",
       "prev_medals   0.0  15.0   0.0   0.0   0.0   0.0   0.0   3.0   4.0   0.0  \n",
       "\n",
       "[3 rows x 2014 columns]"
      ]
     },
     "execution_count": 224,
     "metadata": {},
     "output_type": "execute_result"
    }
   ],
   "source": [
    "X_T"
   ]
  },
  {
   "cell_type": "markdown",
   "id": "1ef9ce63",
   "metadata": {},
   "source": [
    "Next, we find the slope and intercept terms. These terms are gotten from the formula **y = X * B**. where X * B is the matrix multiplication of both terms, and B is the slope and intercept values. Making B the subject of the formula, we get: **B = (X<sup>T</sup>X)<sup>-1</sup>X<sup>T</sup>y**"
   ]
  },
  {
   "cell_type": "code",
   "execution_count": 225,
   "id": "b81ba2c5-8e71-45d2-986d-da874fa8aa18",
   "metadata": {},
   "outputs": [],
   "source": [
    "B = np.linalg.inv(X_T @ X) @ X_T @ y"
   ]
  },
  {
   "cell_type": "code",
   "execution_count": 226,
   "id": "e5358631-ecea-4d88-9d83-94562d600664",
   "metadata": {},
   "outputs": [
    {
     "data": {
      "text/html": [
       "<div>\n",
       "<style scoped>\n",
       "    .dataframe tbody tr th:only-of-type {\n",
       "        vertical-align: middle;\n",
       "    }\n",
       "\n",
       "    .dataframe tbody tr th {\n",
       "        vertical-align: top;\n",
       "    }\n",
       "\n",
       "    .dataframe thead th {\n",
       "        text-align: right;\n",
       "    }\n",
       "</style>\n",
       "<table border=\"1\" class=\"dataframe\">\n",
       "  <thead>\n",
       "    <tr style=\"text-align: right;\">\n",
       "      <th></th>\n",
       "      <th>medals</th>\n",
       "    </tr>\n",
       "  </thead>\n",
       "  <tbody>\n",
       "    <tr>\n",
       "      <th>0</th>\n",
       "      <td>-1.961889</td>\n",
       "    </tr>\n",
       "    <tr>\n",
       "      <th>1</th>\n",
       "      <td>0.071112</td>\n",
       "    </tr>\n",
       "    <tr>\n",
       "      <th>2</th>\n",
       "      <td>0.734137</td>\n",
       "    </tr>\n",
       "  </tbody>\n",
       "</table>\n",
       "</div>"
      ],
      "text/plain": [
       "     medals\n",
       "0 -1.961889\n",
       "1  0.071112\n",
       "2  0.734137"
      ]
     },
     "execution_count": 226,
     "metadata": {},
     "output_type": "execute_result"
    }
   ],
   "source": [
    "B"
   ]
  },
  {
   "cell_type": "code",
   "execution_count": 227,
   "id": "cc637206-53e9-4433-a8e0-dede8be14f3c",
   "metadata": {},
   "outputs": [],
   "source": [
    "# rename the indexes for B\n",
    "B.index = X.columns"
   ]
  },
  {
   "cell_type": "code",
   "execution_count": 228,
   "id": "23db2bde-9630-42d2-a998-42b23816b2e1",
   "metadata": {},
   "outputs": [
    {
     "data": {
      "text/html": [
       "<div>\n",
       "<style scoped>\n",
       "    .dataframe tbody tr th:only-of-type {\n",
       "        vertical-align: middle;\n",
       "    }\n",
       "\n",
       "    .dataframe tbody tr th {\n",
       "        vertical-align: top;\n",
       "    }\n",
       "\n",
       "    .dataframe thead th {\n",
       "        text-align: right;\n",
       "    }\n",
       "</style>\n",
       "<table border=\"1\" class=\"dataframe\">\n",
       "  <thead>\n",
       "    <tr style=\"text-align: right;\">\n",
       "      <th></th>\n",
       "      <th>medals</th>\n",
       "    </tr>\n",
       "  </thead>\n",
       "  <tbody>\n",
       "    <tr>\n",
       "      <th>intercept</th>\n",
       "      <td>-1.961889</td>\n",
       "    </tr>\n",
       "    <tr>\n",
       "      <th>athletes</th>\n",
       "      <td>0.071112</td>\n",
       "    </tr>\n",
       "    <tr>\n",
       "      <th>prev_medals</th>\n",
       "      <td>0.734137</td>\n",
       "    </tr>\n",
       "  </tbody>\n",
       "</table>\n",
       "</div>"
      ],
      "text/plain": [
       "               medals\n",
       "intercept   -1.961889\n",
       "athletes     0.071112\n",
       "prev_medals  0.734137"
      ]
     },
     "execution_count": 228,
     "metadata": {},
     "output_type": "execute_result"
    }
   ],
   "source": [
    "B"
   ]
  },
  {
   "cell_type": "code",
   "execution_count": 229,
   "id": "c44fa43b-e451-405b-9344-29b296a36540",
   "metadata": {},
   "outputs": [],
   "source": [
    "# now we can predict the values for y (number of medals)\n",
    "predictions = X @ B"
   ]
  },
  {
   "cell_type": "code",
   "execution_count": 230,
   "id": "3555b30c-f113-40a9-be3d-842ae9d1e869",
   "metadata": {},
   "outputs": [
    {
     "data": {
      "text/html": [
       "<div>\n",
       "<style scoped>\n",
       "    .dataframe tbody tr th:only-of-type {\n",
       "        vertical-align: middle;\n",
       "    }\n",
       "\n",
       "    .dataframe tbody tr th {\n",
       "        vertical-align: top;\n",
       "    }\n",
       "\n",
       "    .dataframe thead th {\n",
       "        text-align: right;\n",
       "    }\n",
       "</style>\n",
       "<table border=\"1\" class=\"dataframe\">\n",
       "  <thead>\n",
       "    <tr style=\"text-align: right;\">\n",
       "      <th></th>\n",
       "      <th>medals</th>\n",
       "    </tr>\n",
       "  </thead>\n",
       "  <tbody>\n",
       "    <tr>\n",
       "      <th>2009</th>\n",
       "      <td>-0.112974</td>\n",
       "    </tr>\n",
       "    <tr>\n",
       "      <th>2010</th>\n",
       "      <td>-0.966319</td>\n",
       "    </tr>\n",
       "    <tr>\n",
       "      <th>2011</th>\n",
       "      <td>1.378315</td>\n",
       "    </tr>\n",
       "    <tr>\n",
       "      <th>2012</th>\n",
       "      <td>1.614667</td>\n",
       "    </tr>\n",
       "    <tr>\n",
       "      <th>2013</th>\n",
       "      <td>0.242587</td>\n",
       "    </tr>\n",
       "  </tbody>\n",
       "</table>\n",
       "</div>"
      ],
      "text/plain": [
       "        medals\n",
       "2009 -0.112974\n",
       "2010 -0.966319\n",
       "2011  1.378315\n",
       "2012  1.614667\n",
       "2013  0.242587"
      ]
     },
     "execution_count": 230,
     "metadata": {},
     "output_type": "execute_result"
    }
   ],
   "source": [
    "predictions.tail()"
   ]
  },
  {
   "cell_type": "markdown",
   "id": "6137d4d3",
   "metadata": {},
   "source": [
    "Next, we want to see how accurate we are. To do this we calculate the r<sup>2</sup>. The r<sup>2</sup> represents the proportion of y that is explained by X."
   ]
  },
  {
   "cell_type": "code",
   "execution_count": 231,
   "id": "c4f9eafb-71a2-447f-9a15-7ac57a166653",
   "metadata": {},
   "outputs": [],
   "source": [
    "# calculate the Residual sum of squares\n",
    "SSR = ((y - predictions) ** 2).sum()"
   ]
  },
  {
   "cell_type": "code",
   "execution_count": 232,
   "id": "fa4b87f2-6c0f-4788-8fc6-853e6e78881a",
   "metadata": {},
   "outputs": [
    {
     "data": {
      "text/plain": [
       "medals    290620.124598\n",
       "dtype: float64"
      ]
     },
     "execution_count": 232,
     "metadata": {},
     "output_type": "execute_result"
    }
   ],
   "source": [
    "SSR"
   ]
  },
  {
   "cell_type": "code",
   "execution_count": 233,
   "id": "92c2dc96-1b9f-4ecb-873a-377cbf94cc92",
   "metadata": {},
   "outputs": [],
   "source": [
    "# next, calculate the total sum of squares\n",
    "TSS = ((y - y.mean()) ** 2).sum()"
   ]
  },
  {
   "cell_type": "code",
   "execution_count": 234,
   "id": "07e72c48-bf65-4841-abf2-71d43a771944",
   "metadata": {},
   "outputs": [
    {
     "data": {
      "text/plain": [
       "medals    2.276322e+06\n",
       "dtype: float64"
      ]
     },
     "execution_count": 234,
     "metadata": {},
     "output_type": "execute_result"
    }
   ],
   "source": [
    "TSS"
   ]
  },
  {
   "cell_type": "code",
   "execution_count": 235,
   "id": "77240953-f373-41d3-8d04-ec23924f2b1d",
   "metadata": {},
   "outputs": [],
   "source": [
    "# using the two values gotten above, we calculate the r squared value\n",
    "R2 = 1 - (SSR / TSS)"
   ]
  },
  {
   "cell_type": "code",
   "execution_count": 236,
   "id": "1f60ff24-0b12-4a8c-827b-dc678dbdcbb4",
   "metadata": {},
   "outputs": [
    {
     "data": {
      "text/plain": [
       "medals    0.872329\n",
       "dtype: float64"
      ]
     },
     "execution_count": 236,
     "metadata": {},
     "output_type": "execute_result"
    }
   ],
   "source": [
    "R2"
   ]
  },
  {
   "cell_type": "markdown",
   "id": "df9a22dc",
   "metadata": {},
   "source": [
    "We got 0.87 approximately. This means that 87% of the variation in number of medals gotten by a country in a particular year can be explained by the number of athletes that represented that country and the number of medals gotten by that country in the previous year."
   ]
  },
  {
   "cell_type": "markdown",
   "id": "02a95809",
   "metadata": {},
   "source": [
    "## Linear Regression using scikit-learn"
   ]
  },
  {
   "cell_type": "code",
   "execution_count": 237,
   "id": "290f69cc-93f8-453d-bac2-e2fb515fa0ee",
   "metadata": {},
   "outputs": [],
   "source": [
    "# create an instance of the LinearRegression object\n",
    "lr = LinearRegression()"
   ]
  },
  {
   "cell_type": "code",
   "execution_count": 238,
   "id": "39f27132-d807-4ab8-8c3b-04408c0e8368",
   "metadata": {},
   "outputs": [
    {
     "data": {
      "text/plain": [
       "LinearRegression()"
      ]
     },
     "execution_count": 238,
     "metadata": {},
     "output_type": "execute_result"
    }
   ],
   "source": [
    "# fit the model\n",
    "lr.fit(teams[[\"athletes\", \"prev_medals\"]], teams[[\"medals\"]])"
   ]
  },
  {
   "cell_type": "markdown",
   "id": "c75da728",
   "metadata": {},
   "source": [
    "We will now check the intercept and coefficient calculated by the model and compare with the one done by ourselves."
   ]
  },
  {
   "cell_type": "code",
   "execution_count": 239,
   "id": "ed150e35-aca8-4c02-8d5d-98739a635d9e",
   "metadata": {},
   "outputs": [
    {
     "data": {
      "text/plain": [
       "array([-1.96188939])"
      ]
     },
     "execution_count": 239,
     "metadata": {},
     "output_type": "execute_result"
    }
   ],
   "source": [
    "lr.intercept_"
   ]
  },
  {
   "cell_type": "code",
   "execution_count": 240,
   "id": "f4b207ff-cfe6-48bb-969e-99b7d6612d77",
   "metadata": {},
   "outputs": [
    {
     "data": {
      "text/plain": [
       "array([[0.07111214, 0.73413679]])"
      ]
     },
     "execution_count": 240,
     "metadata": {},
     "output_type": "execute_result"
    }
   ],
   "source": [
    "lr.coef_"
   ]
  },
  {
   "cell_type": "markdown",
   "id": "03218f6c",
   "metadata": {},
   "source": [
    "They are the same. We only computed above what the scikit learn library does automatically."
   ]
  },
  {
   "cell_type": "markdown",
   "id": "8a253ed1",
   "metadata": {},
   "source": [
    "## Linear Regression using OLS (Ordinary least squares)"
   ]
  },
  {
   "cell_type": "markdown",
   "id": "fa932964",
   "metadata": {},
   "source": [
    "In this section, we use another library to perform linear regression. The name of the package is statsmodel.api and there we find a library named OLS. An advantage of this library is the summary function that comes with it . We'll see that later."
   ]
  },
  {
   "cell_type": "markdown",
   "id": "f718700a",
   "metadata": {},
   "source": [
    "We'll first implement with the columns used previously then we'll add more columns and see if it improves the r<sup>2</sup>. \n",
    "\n",
    "One thing to note it that unlike Linear Regression in scikit learn, this model requires that you add the constant column, that is, the column of all 1's to the X variable. "
   ]
  },
  {
   "cell_type": "code",
   "execution_count": 241,
   "id": "58400b36",
   "metadata": {},
   "outputs": [],
   "source": [
    "# create model\n",
    "model = sm.OLS(y, X)"
   ]
  },
  {
   "cell_type": "code",
   "execution_count": 242,
   "id": "e939e3b0",
   "metadata": {},
   "outputs": [],
   "source": [
    "# fit model\n",
    "results = model.fit()"
   ]
  },
  {
   "cell_type": "code",
   "execution_count": 243,
   "id": "c05f0b08",
   "metadata": {},
   "outputs": [
    {
     "data": {
      "text/html": [
       "<table class=\"simpletable\">\n",
       "<caption>OLS Regression Results</caption>\n",
       "<tr>\n",
       "  <th>Dep. Variable:</th>         <td>medals</td>      <th>  R-squared:         </th> <td>   0.872</td> \n",
       "</tr>\n",
       "<tr>\n",
       "  <th>Model:</th>                   <td>OLS</td>       <th>  Adj. R-squared:    </th> <td>   0.872</td> \n",
       "</tr>\n",
       "<tr>\n",
       "  <th>Method:</th>             <td>Least Squares</td>  <th>  F-statistic:       </th> <td>   6870.</td> \n",
       "</tr>\n",
       "<tr>\n",
       "  <th>Date:</th>             <td>Fri, 29 Jul 2022</td> <th>  Prob (F-statistic):</th>  <td>  0.00</td>  \n",
       "</tr>\n",
       "<tr>\n",
       "  <th>Time:</th>                 <td>22:14:02</td>     <th>  Log-Likelihood:    </th> <td> -7864.4</td> \n",
       "</tr>\n",
       "<tr>\n",
       "  <th>No. Observations:</th>      <td>  2014</td>      <th>  AIC:               </th> <td>1.573e+04</td>\n",
       "</tr>\n",
       "<tr>\n",
       "  <th>Df Residuals:</th>          <td>  2011</td>      <th>  BIC:               </th> <td>1.575e+04</td>\n",
       "</tr>\n",
       "<tr>\n",
       "  <th>Df Model:</th>              <td>     2</td>      <th>                     </th>     <td> </td>    \n",
       "</tr>\n",
       "<tr>\n",
       "  <th>Covariance Type:</th>      <td>nonrobust</td>    <th>                     </th>     <td> </td>    \n",
       "</tr>\n",
       "</table>\n",
       "<table class=\"simpletable\">\n",
       "<tr>\n",
       "       <td></td>          <th>coef</th>     <th>std err</th>      <th>t</th>      <th>P>|t|</th>  <th>[0.025</th>    <th>0.975]</th>  \n",
       "</tr>\n",
       "<tr>\n",
       "  <th>intercept</th>   <td>   -1.9619</td> <td>    0.319</td> <td>   -6.153</td> <td> 0.000</td> <td>   -2.587</td> <td>   -1.337</td>\n",
       "</tr>\n",
       "<tr>\n",
       "  <th>athletes</th>    <td>    0.0711</td> <td>    0.004</td> <td>   20.175</td> <td> 0.000</td> <td>    0.064</td> <td>    0.078</td>\n",
       "</tr>\n",
       "<tr>\n",
       "  <th>prev_medals</th> <td>    0.7341</td> <td>    0.014</td> <td>   51.270</td> <td> 0.000</td> <td>    0.706</td> <td>    0.762</td>\n",
       "</tr>\n",
       "</table>\n",
       "<table class=\"simpletable\">\n",
       "<tr>\n",
       "  <th>Omnibus:</th>       <td>1927.972</td> <th>  Durbin-Watson:     </th>  <td>   2.121</td> \n",
       "</tr>\n",
       "<tr>\n",
       "  <th>Prob(Omnibus):</th>  <td> 0.000</td>  <th>  Jarque-Bera (JB):  </th> <td>399976.447</td>\n",
       "</tr>\n",
       "<tr>\n",
       "  <th>Skew:</th>           <td> 3.949</td>  <th>  Prob(JB):          </th>  <td>    0.00</td> \n",
       "</tr>\n",
       "<tr>\n",
       "  <th>Kurtosis:</th>       <td>71.586</td>  <th>  Cond. No.          </th>  <td>    182.</td> \n",
       "</tr>\n",
       "</table><br/><br/>Notes:<br/>[1] Standard Errors assume that the covariance matrix of the errors is correctly specified."
      ],
      "text/plain": [
       "<class 'statsmodels.iolib.summary.Summary'>\n",
       "\"\"\"\n",
       "                            OLS Regression Results                            \n",
       "==============================================================================\n",
       "Dep. Variable:                 medals   R-squared:                       0.872\n",
       "Model:                            OLS   Adj. R-squared:                  0.872\n",
       "Method:                 Least Squares   F-statistic:                     6870.\n",
       "Date:                Fri, 29 Jul 2022   Prob (F-statistic):               0.00\n",
       "Time:                        22:14:02   Log-Likelihood:                -7864.4\n",
       "No. Observations:                2014   AIC:                         1.573e+04\n",
       "Df Residuals:                    2011   BIC:                         1.575e+04\n",
       "Df Model:                           2                                         \n",
       "Covariance Type:            nonrobust                                         \n",
       "===============================================================================\n",
       "                  coef    std err          t      P>|t|      [0.025      0.975]\n",
       "-------------------------------------------------------------------------------\n",
       "intercept      -1.9619      0.319     -6.153      0.000      -2.587      -1.337\n",
       "athletes        0.0711      0.004     20.175      0.000       0.064       0.078\n",
       "prev_medals     0.7341      0.014     51.270      0.000       0.706       0.762\n",
       "==============================================================================\n",
       "Omnibus:                     1927.972   Durbin-Watson:                   2.121\n",
       "Prob(Omnibus):                  0.000   Jarque-Bera (JB):           399976.447\n",
       "Skew:                           3.949   Prob(JB):                         0.00\n",
       "Kurtosis:                      71.586   Cond. No.                         182.\n",
       "==============================================================================\n",
       "\n",
       "Notes:\n",
       "[1] Standard Errors assume that the covariance matrix of the errors is correctly specified.\n",
       "\"\"\""
      ]
     },
     "execution_count": 243,
     "metadata": {},
     "output_type": "execute_result"
    }
   ],
   "source": [
    "# create summary report\n",
    "results.summary()"
   ]
  },
  {
   "cell_type": "markdown",
   "id": "b761adb7",
   "metadata": {},
   "source": [
    "-------------------------------------------------------------------------------------------------------------------------------\n",
    "This is the summary report I talked about earlier. Here, we see the r-squared value at the top and the intercept and slope values near the bottom. There are also other useful summary statistics like p-value and the 95% confidence interval values.\n",
    "\n",
    "Note that the values gotten before are the same as those shown here."
   ]
  },
  {
   "cell_type": "markdown",
   "id": "9b3712bd",
   "metadata": {},
   "source": [
    "## Add other variables"
   ]
  },
  {
   "cell_type": "code",
   "execution_count": 244,
   "id": "2e844743",
   "metadata": {},
   "outputs": [
    {
     "data": {
      "text/html": [
       "<div>\n",
       "<style scoped>\n",
       "    .dataframe tbody tr th:only-of-type {\n",
       "        vertical-align: middle;\n",
       "    }\n",
       "\n",
       "    .dataframe tbody tr th {\n",
       "        vertical-align: top;\n",
       "    }\n",
       "\n",
       "    .dataframe thead th {\n",
       "        text-align: right;\n",
       "    }\n",
       "</style>\n",
       "<table border=\"1\" class=\"dataframe\">\n",
       "  <thead>\n",
       "    <tr style=\"text-align: right;\">\n",
       "      <th></th>\n",
       "      <th>team</th>\n",
       "      <th>year</th>\n",
       "      <th>athletes</th>\n",
       "      <th>events</th>\n",
       "      <th>age</th>\n",
       "      <th>height</th>\n",
       "      <th>weight</th>\n",
       "      <th>prev_medals</th>\n",
       "      <th>medals</th>\n",
       "    </tr>\n",
       "  </thead>\n",
       "  <tbody>\n",
       "    <tr>\n",
       "      <th>0</th>\n",
       "      <td>AFG</td>\n",
       "      <td>1964</td>\n",
       "      <td>8</td>\n",
       "      <td>8</td>\n",
       "      <td>22.0</td>\n",
       "      <td>161.0</td>\n",
       "      <td>64.2</td>\n",
       "      <td>0.0</td>\n",
       "      <td>0</td>\n",
       "    </tr>\n",
       "    <tr>\n",
       "      <th>1</th>\n",
       "      <td>AFG</td>\n",
       "      <td>1968</td>\n",
       "      <td>5</td>\n",
       "      <td>5</td>\n",
       "      <td>23.2</td>\n",
       "      <td>170.2</td>\n",
       "      <td>70.0</td>\n",
       "      <td>0.0</td>\n",
       "      <td>0</td>\n",
       "    </tr>\n",
       "    <tr>\n",
       "      <th>2</th>\n",
       "      <td>AFG</td>\n",
       "      <td>1972</td>\n",
       "      <td>8</td>\n",
       "      <td>8</td>\n",
       "      <td>29.0</td>\n",
       "      <td>168.3</td>\n",
       "      <td>63.8</td>\n",
       "      <td>0.0</td>\n",
       "      <td>0</td>\n",
       "    </tr>\n",
       "    <tr>\n",
       "      <th>3</th>\n",
       "      <td>AFG</td>\n",
       "      <td>1980</td>\n",
       "      <td>11</td>\n",
       "      <td>11</td>\n",
       "      <td>23.6</td>\n",
       "      <td>168.4</td>\n",
       "      <td>63.2</td>\n",
       "      <td>0.0</td>\n",
       "      <td>0</td>\n",
       "    </tr>\n",
       "    <tr>\n",
       "      <th>4</th>\n",
       "      <td>AFG</td>\n",
       "      <td>2004</td>\n",
       "      <td>5</td>\n",
       "      <td>5</td>\n",
       "      <td>18.6</td>\n",
       "      <td>170.8</td>\n",
       "      <td>64.8</td>\n",
       "      <td>0.0</td>\n",
       "      <td>0</td>\n",
       "    </tr>\n",
       "  </tbody>\n",
       "</table>\n",
       "</div>"
      ],
      "text/plain": [
       "  team  year  athletes  events   age  height  weight  prev_medals  medals\n",
       "0  AFG  1964         8       8  22.0   161.0    64.2          0.0       0\n",
       "1  AFG  1968         5       5  23.2   170.2    70.0          0.0       0\n",
       "2  AFG  1972         8       8  29.0   168.3    63.8          0.0       0\n",
       "3  AFG  1980        11      11  23.6   168.4    63.2          0.0       0\n",
       "4  AFG  2004         5       5  18.6   170.8    64.8          0.0       0"
      ]
     },
     "execution_count": 244,
     "metadata": {},
     "output_type": "execute_result"
    }
   ],
   "source": [
    "teams.head()"
   ]
  },
  {
   "cell_type": "code",
   "execution_count": 245,
   "id": "9133fba7",
   "metadata": {},
   "outputs": [],
   "source": [
    "# create new X with the other independent variables.\n",
    "X = teams[['athletes', 'age', 'height', 'weight', 'prev_medals']].copy()"
   ]
  },
  {
   "cell_type": "code",
   "execution_count": 246,
   "id": "4afca898",
   "metadata": {},
   "outputs": [],
   "source": [
    "# add constant column\n",
    "X = sm.add_constant(X)"
   ]
  },
  {
   "cell_type": "code",
   "execution_count": 247,
   "id": "cc42527f",
   "metadata": {},
   "outputs": [
    {
     "data": {
      "text/html": [
       "<div>\n",
       "<style scoped>\n",
       "    .dataframe tbody tr th:only-of-type {\n",
       "        vertical-align: middle;\n",
       "    }\n",
       "\n",
       "    .dataframe tbody tr th {\n",
       "        vertical-align: top;\n",
       "    }\n",
       "\n",
       "    .dataframe thead th {\n",
       "        text-align: right;\n",
       "    }\n",
       "</style>\n",
       "<table border=\"1\" class=\"dataframe\">\n",
       "  <thead>\n",
       "    <tr style=\"text-align: right;\">\n",
       "      <th></th>\n",
       "      <th>const</th>\n",
       "      <th>athletes</th>\n",
       "      <th>age</th>\n",
       "      <th>height</th>\n",
       "      <th>weight</th>\n",
       "      <th>prev_medals</th>\n",
       "    </tr>\n",
       "  </thead>\n",
       "  <tbody>\n",
       "    <tr>\n",
       "      <th>0</th>\n",
       "      <td>1.0</td>\n",
       "      <td>8</td>\n",
       "      <td>22.0</td>\n",
       "      <td>161.0</td>\n",
       "      <td>64.2</td>\n",
       "      <td>0.0</td>\n",
       "    </tr>\n",
       "    <tr>\n",
       "      <th>1</th>\n",
       "      <td>1.0</td>\n",
       "      <td>5</td>\n",
       "      <td>23.2</td>\n",
       "      <td>170.2</td>\n",
       "      <td>70.0</td>\n",
       "      <td>0.0</td>\n",
       "    </tr>\n",
       "    <tr>\n",
       "      <th>2</th>\n",
       "      <td>1.0</td>\n",
       "      <td>8</td>\n",
       "      <td>29.0</td>\n",
       "      <td>168.3</td>\n",
       "      <td>63.8</td>\n",
       "      <td>0.0</td>\n",
       "    </tr>\n",
       "    <tr>\n",
       "      <th>3</th>\n",
       "      <td>1.0</td>\n",
       "      <td>11</td>\n",
       "      <td>23.6</td>\n",
       "      <td>168.4</td>\n",
       "      <td>63.2</td>\n",
       "      <td>0.0</td>\n",
       "    </tr>\n",
       "    <tr>\n",
       "      <th>4</th>\n",
       "      <td>1.0</td>\n",
       "      <td>5</td>\n",
       "      <td>18.6</td>\n",
       "      <td>170.8</td>\n",
       "      <td>64.8</td>\n",
       "      <td>0.0</td>\n",
       "    </tr>\n",
       "  </tbody>\n",
       "</table>\n",
       "</div>"
      ],
      "text/plain": [
       "   const  athletes   age  height  weight  prev_medals\n",
       "0    1.0         8  22.0   161.0    64.2          0.0\n",
       "1    1.0         5  23.2   170.2    70.0          0.0\n",
       "2    1.0         8  29.0   168.3    63.8          0.0\n",
       "3    1.0        11  23.6   168.4    63.2          0.0\n",
       "4    1.0         5  18.6   170.8    64.8          0.0"
      ]
     },
     "execution_count": 247,
     "metadata": {},
     "output_type": "execute_result"
    }
   ],
   "source": [
    "X.head()"
   ]
  },
  {
   "cell_type": "code",
   "execution_count": 248,
   "id": "58c13faa",
   "metadata": {},
   "outputs": [],
   "source": [
    "# create model\n",
    "model = sm.OLS(y, X)"
   ]
  },
  {
   "cell_type": "code",
   "execution_count": 249,
   "id": "61608b86",
   "metadata": {},
   "outputs": [],
   "source": [
    "# fit model\n",
    "results = model.fit()"
   ]
  },
  {
   "cell_type": "code",
   "execution_count": 250,
   "id": "c5aea15b",
   "metadata": {},
   "outputs": [
    {
     "data": {
      "text/html": [
       "<table class=\"simpletable\">\n",
       "<caption>OLS Regression Results</caption>\n",
       "<tr>\n",
       "  <th>Dep. Variable:</th>         <td>medals</td>      <th>  R-squared:         </th> <td>   0.872</td> \n",
       "</tr>\n",
       "<tr>\n",
       "  <th>Model:</th>                   <td>OLS</td>       <th>  Adj. R-squared:    </th> <td>   0.872</td> \n",
       "</tr>\n",
       "<tr>\n",
       "  <th>Method:</th>             <td>Least Squares</td>  <th>  F-statistic:       </th> <td>   2747.</td> \n",
       "</tr>\n",
       "<tr>\n",
       "  <th>Date:</th>             <td>Fri, 29 Jul 2022</td> <th>  Prob (F-statistic):</th>  <td>  0.00</td>  \n",
       "</tr>\n",
       "<tr>\n",
       "  <th>Time:</th>                 <td>22:14:03</td>     <th>  Log-Likelihood:    </th> <td> -7863.4</td> \n",
       "</tr>\n",
       "<tr>\n",
       "  <th>No. Observations:</th>      <td>  2014</td>      <th>  AIC:               </th> <td>1.574e+04</td>\n",
       "</tr>\n",
       "<tr>\n",
       "  <th>Df Residuals:</th>          <td>  2008</td>      <th>  BIC:               </th> <td>1.577e+04</td>\n",
       "</tr>\n",
       "<tr>\n",
       "  <th>Df Model:</th>              <td>     5</td>      <th>                     </th>     <td> </td>    \n",
       "</tr>\n",
       "<tr>\n",
       "  <th>Covariance Type:</th>      <td>nonrobust</td>    <th>                     </th>     <td> </td>    \n",
       "</tr>\n",
       "</table>\n",
       "<table class=\"simpletable\">\n",
       "<tr>\n",
       "       <td></td>          <th>coef</th>     <th>std err</th>      <th>t</th>      <th>P>|t|</th>  <th>[0.025</th>    <th>0.975]</th>  \n",
       "</tr>\n",
       "<tr>\n",
       "  <th>const</th>       <td>    9.5916</td> <td>   10.410</td> <td>    0.921</td> <td> 0.357</td> <td>  -10.823</td> <td>   30.007</td>\n",
       "</tr>\n",
       "<tr>\n",
       "  <th>athletes</th>    <td>    0.0716</td> <td>    0.004</td> <td>   20.105</td> <td> 0.000</td> <td>    0.065</td> <td>    0.079</td>\n",
       "</tr>\n",
       "<tr>\n",
       "  <th>age</th>         <td>   -0.1080</td> <td>    0.100</td> <td>   -1.085</td> <td> 0.278</td> <td>   -0.303</td> <td>    0.087</td>\n",
       "</tr>\n",
       "<tr>\n",
       "  <th>height</th>      <td>   -0.0627</td> <td>    0.071</td> <td>   -0.884</td> <td> 0.377</td> <td>   -0.202</td> <td>    0.076</td>\n",
       "</tr>\n",
       "<tr>\n",
       "  <th>weight</th>      <td>    0.0290</td> <td>    0.050</td> <td>    0.584</td> <td> 0.560</td> <td>   -0.068</td> <td>    0.126</td>\n",
       "</tr>\n",
       "<tr>\n",
       "  <th>prev_medals</th> <td>    0.7338</td> <td>    0.014</td> <td>   51.202</td> <td> 0.000</td> <td>    0.706</td> <td>    0.762</td>\n",
       "</tr>\n",
       "</table>\n",
       "<table class=\"simpletable\">\n",
       "<tr>\n",
       "  <th>Omnibus:</th>       <td>1924.434</td> <th>  Durbin-Watson:     </th>  <td>   2.122</td> \n",
       "</tr>\n",
       "<tr>\n",
       "  <th>Prob(Omnibus):</th>  <td> 0.000</td>  <th>  Jarque-Bera (JB):  </th> <td>398606.892</td>\n",
       "</tr>\n",
       "<tr>\n",
       "  <th>Skew:</th>           <td> 3.937</td>  <th>  Prob(JB):          </th>  <td>    0.00</td> \n",
       "</tr>\n",
       "<tr>\n",
       "  <th>Kurtosis:</th>       <td>71.469</td>  <th>  Cond. No.          </th>  <td>8.29e+03</td> \n",
       "</tr>\n",
       "</table><br/><br/>Notes:<br/>[1] Standard Errors assume that the covariance matrix of the errors is correctly specified.<br/>[2] The condition number is large, 8.29e+03. This might indicate that there are<br/>strong multicollinearity or other numerical problems."
      ],
      "text/plain": [
       "<class 'statsmodels.iolib.summary.Summary'>\n",
       "\"\"\"\n",
       "                            OLS Regression Results                            \n",
       "==============================================================================\n",
       "Dep. Variable:                 medals   R-squared:                       0.872\n",
       "Model:                            OLS   Adj. R-squared:                  0.872\n",
       "Method:                 Least Squares   F-statistic:                     2747.\n",
       "Date:                Fri, 29 Jul 2022   Prob (F-statistic):               0.00\n",
       "Time:                        22:14:03   Log-Likelihood:                -7863.4\n",
       "No. Observations:                2014   AIC:                         1.574e+04\n",
       "Df Residuals:                    2008   BIC:                         1.577e+04\n",
       "Df Model:                           5                                         \n",
       "Covariance Type:            nonrobust                                         \n",
       "===============================================================================\n",
       "                  coef    std err          t      P>|t|      [0.025      0.975]\n",
       "-------------------------------------------------------------------------------\n",
       "const           9.5916     10.410      0.921      0.357     -10.823      30.007\n",
       "athletes        0.0716      0.004     20.105      0.000       0.065       0.079\n",
       "age            -0.1080      0.100     -1.085      0.278      -0.303       0.087\n",
       "height         -0.0627      0.071     -0.884      0.377      -0.202       0.076\n",
       "weight          0.0290      0.050      0.584      0.560      -0.068       0.126\n",
       "prev_medals     0.7338      0.014     51.202      0.000       0.706       0.762\n",
       "==============================================================================\n",
       "Omnibus:                     1924.434   Durbin-Watson:                   2.122\n",
       "Prob(Omnibus):                  0.000   Jarque-Bera (JB):           398606.892\n",
       "Skew:                           3.937   Prob(JB):                         0.00\n",
       "Kurtosis:                      71.469   Cond. No.                     8.29e+03\n",
       "==============================================================================\n",
       "\n",
       "Notes:\n",
       "[1] Standard Errors assume that the covariance matrix of the errors is correctly specified.\n",
       "[2] The condition number is large, 8.29e+03. This might indicate that there are\n",
       "strong multicollinearity or other numerical problems.\n",
       "\"\"\""
      ]
     },
     "execution_count": 250,
     "metadata": {},
     "output_type": "execute_result"
    }
   ],
   "source": [
    "# summary report\n",
    "results.summary()"
   ]
  },
  {
   "cell_type": "markdown",
   "id": "26ea3d79",
   "metadata": {},
   "source": []
  },
  {
   "cell_type": "markdown",
   "id": "81913154",
   "metadata": {},
   "source": [
    "-------------------------------------------------------------------------------------------------------------------------------"
   ]
  },
  {
   "cell_type": "markdown",
   "id": "fe86e1b0",
   "metadata": {},
   "source": [
    "The r-squared values did not change after adding those extra columns. Looking at the p-values for these columns, we see that they are pretty high compared to the two columns we used before. This means that these extra columns does not significantly affect the outcome y."
   ]
  },
  {
   "cell_type": "markdown",
   "id": "7ff2d4df",
   "metadata": {},
   "source": [
    "-------------------------------------------------------------------------------------------------------------------------------"
   ]
  },
  {
   "cell_type": "markdown",
   "id": "8f16cec4",
   "metadata": {},
   "source": [
    "## Predicting outcomes (Number of medals)"
   ]
  },
  {
   "cell_type": "markdown",
   "id": "52b5a6a6",
   "metadata": {},
   "source": [
    "Here, we'll use scikit learn's Linear Regression to predict the number of medals won by a country using the number of athletes registered and the number of medals won in the previous year.\n",
    "\n",
    "We will not use the other variables because as seen in the summary report above, these variables do not signifivantly affect the target variable (y)."
   ]
  },
  {
   "cell_type": "code",
   "execution_count": 251,
   "id": "45452a14",
   "metadata": {},
   "outputs": [
    {
     "data": {
      "text/html": [
       "<div>\n",
       "<style scoped>\n",
       "    .dataframe tbody tr th:only-of-type {\n",
       "        vertical-align: middle;\n",
       "    }\n",
       "\n",
       "    .dataframe tbody tr th {\n",
       "        vertical-align: top;\n",
       "    }\n",
       "\n",
       "    .dataframe thead th {\n",
       "        text-align: right;\n",
       "    }\n",
       "</style>\n",
       "<table border=\"1\" class=\"dataframe\">\n",
       "  <thead>\n",
       "    <tr style=\"text-align: right;\">\n",
       "      <th></th>\n",
       "      <th>team</th>\n",
       "      <th>year</th>\n",
       "      <th>athletes</th>\n",
       "      <th>events</th>\n",
       "      <th>age</th>\n",
       "      <th>height</th>\n",
       "      <th>weight</th>\n",
       "      <th>prev_medals</th>\n",
       "      <th>medals</th>\n",
       "    </tr>\n",
       "  </thead>\n",
       "  <tbody>\n",
       "    <tr>\n",
       "      <th>0</th>\n",
       "      <td>AFG</td>\n",
       "      <td>1964</td>\n",
       "      <td>8</td>\n",
       "      <td>8</td>\n",
       "      <td>22.0</td>\n",
       "      <td>161.0</td>\n",
       "      <td>64.2</td>\n",
       "      <td>0.0</td>\n",
       "      <td>0</td>\n",
       "    </tr>\n",
       "    <tr>\n",
       "      <th>1</th>\n",
       "      <td>AFG</td>\n",
       "      <td>1968</td>\n",
       "      <td>5</td>\n",
       "      <td>5</td>\n",
       "      <td>23.2</td>\n",
       "      <td>170.2</td>\n",
       "      <td>70.0</td>\n",
       "      <td>0.0</td>\n",
       "      <td>0</td>\n",
       "    </tr>\n",
       "    <tr>\n",
       "      <th>2</th>\n",
       "      <td>AFG</td>\n",
       "      <td>1972</td>\n",
       "      <td>8</td>\n",
       "      <td>8</td>\n",
       "      <td>29.0</td>\n",
       "      <td>168.3</td>\n",
       "      <td>63.8</td>\n",
       "      <td>0.0</td>\n",
       "      <td>0</td>\n",
       "    </tr>\n",
       "    <tr>\n",
       "      <th>3</th>\n",
       "      <td>AFG</td>\n",
       "      <td>1980</td>\n",
       "      <td>11</td>\n",
       "      <td>11</td>\n",
       "      <td>23.6</td>\n",
       "      <td>168.4</td>\n",
       "      <td>63.2</td>\n",
       "      <td>0.0</td>\n",
       "      <td>0</td>\n",
       "    </tr>\n",
       "    <tr>\n",
       "      <th>4</th>\n",
       "      <td>AFG</td>\n",
       "      <td>2004</td>\n",
       "      <td>5</td>\n",
       "      <td>5</td>\n",
       "      <td>18.6</td>\n",
       "      <td>170.8</td>\n",
       "      <td>64.8</td>\n",
       "      <td>0.0</td>\n",
       "      <td>0</td>\n",
       "    </tr>\n",
       "  </tbody>\n",
       "</table>\n",
       "</div>"
      ],
      "text/plain": [
       "  team  year  athletes  events   age  height  weight  prev_medals  medals\n",
       "0  AFG  1964         8       8  22.0   161.0    64.2          0.0       0\n",
       "1  AFG  1968         5       5  23.2   170.2    70.0          0.0       0\n",
       "2  AFG  1972         8       8  29.0   168.3    63.8          0.0       0\n",
       "3  AFG  1980        11      11  23.6   168.4    63.2          0.0       0\n",
       "4  AFG  2004         5       5  18.6   170.8    64.8          0.0       0"
      ]
     },
     "execution_count": 251,
     "metadata": {},
     "output_type": "execute_result"
    }
   ],
   "source": [
    "teams.head()"
   ]
  },
  {
   "cell_type": "markdown",
   "id": "a0f57af5",
   "metadata": {},
   "source": [
    "First we split the data into train and test sets. We'll not use sklearn model selection's train_test_split because we do not want future years in the train data and past years in the test data. \n",
    "\n",
    "We split by putting years before 2012 in the train data and years after 2012 in the test data."
   ]
  },
  {
   "cell_type": "code",
   "execution_count": 252,
   "id": "d2a9ab7c",
   "metadata": {},
   "outputs": [],
   "source": [
    "train = teams[teams['year'] < 2012]\n",
    "test = teams[teams['year'] >= 2012]"
   ]
  },
  {
   "cell_type": "markdown",
   "id": "73f80a13",
   "metadata": {},
   "source": [
    "About an 80-20 split"
   ]
  },
  {
   "cell_type": "code",
   "execution_count": 253,
   "id": "ae7a6f88",
   "metadata": {},
   "outputs": [
    {
     "data": {
      "text/plain": [
       "(1609, 9)"
      ]
     },
     "execution_count": 253,
     "metadata": {},
     "output_type": "execute_result"
    }
   ],
   "source": [
    "train.shape"
   ]
  },
  {
   "cell_type": "code",
   "execution_count": 254,
   "id": "c1c9a976",
   "metadata": {},
   "outputs": [
    {
     "data": {
      "text/plain": [
       "(405, 9)"
      ]
     },
     "execution_count": 254,
     "metadata": {},
     "output_type": "execute_result"
    }
   ],
   "source": [
    "test.shape"
   ]
  },
  {
   "cell_type": "code",
   "execution_count": 255,
   "id": "57b41966",
   "metadata": {},
   "outputs": [],
   "source": [
    "predictors = ['athletes', 'prev_medals']"
   ]
  },
  {
   "cell_type": "code",
   "execution_count": 256,
   "id": "0ae171a5",
   "metadata": {},
   "outputs": [],
   "source": [
    "# create regression model\n",
    "reg = LinearRegression()"
   ]
  },
  {
   "cell_type": "code",
   "execution_count": 257,
   "id": "882d51b1",
   "metadata": {},
   "outputs": [
    {
     "data": {
      "text/plain": [
       "LinearRegression()"
      ]
     },
     "execution_count": 257,
     "metadata": {},
     "output_type": "execute_result"
    }
   ],
   "source": [
    "# fit regression model\n",
    "reg.fit(train[predictors], train['medals'])"
   ]
  },
  {
   "cell_type": "code",
   "execution_count": 258,
   "id": "21ab9005",
   "metadata": {},
   "outputs": [],
   "source": [
    "# make predictions\n",
    "result = reg.predict(test[predictors])"
   ]
  },
  {
   "cell_type": "code",
   "execution_count": 259,
   "id": "5e86815c",
   "metadata": {},
   "outputs": [
    {
     "data": {
      "text/plain": [
       "(405,)"
      ]
     },
     "execution_count": 259,
     "metadata": {},
     "output_type": "execute_result"
    }
   ],
   "source": [
    "# should be a column of values\n",
    "result.shape"
   ]
  },
  {
   "cell_type": "code",
   "execution_count": 260,
   "id": "ee1530de",
   "metadata": {},
   "outputs": [],
   "source": [
    "# add predictions to the test dataframe in order to be able to calculate accuracy\n",
    "test['predictions'] = result"
   ]
  },
  {
   "cell_type": "code",
   "execution_count": 261,
   "id": "8037fec5",
   "metadata": {},
   "outputs": [
    {
     "data": {
      "text/html": [
       "<div>\n",
       "<style scoped>\n",
       "    .dataframe tbody tr th:only-of-type {\n",
       "        vertical-align: middle;\n",
       "    }\n",
       "\n",
       "    .dataframe tbody tr th {\n",
       "        vertical-align: top;\n",
       "    }\n",
       "\n",
       "    .dataframe thead th {\n",
       "        text-align: right;\n",
       "    }\n",
       "</style>\n",
       "<table border=\"1\" class=\"dataframe\">\n",
       "  <thead>\n",
       "    <tr style=\"text-align: right;\">\n",
       "      <th></th>\n",
       "      <th>team</th>\n",
       "      <th>year</th>\n",
       "      <th>athletes</th>\n",
       "      <th>events</th>\n",
       "      <th>age</th>\n",
       "      <th>height</th>\n",
       "      <th>weight</th>\n",
       "      <th>prev_medals</th>\n",
       "      <th>medals</th>\n",
       "      <th>predictions</th>\n",
       "    </tr>\n",
       "  </thead>\n",
       "  <tbody>\n",
       "    <tr>\n",
       "      <th>6</th>\n",
       "      <td>AFG</td>\n",
       "      <td>2012</td>\n",
       "      <td>6</td>\n",
       "      <td>6</td>\n",
       "      <td>24.8</td>\n",
       "      <td>171.7</td>\n",
       "      <td>60.8</td>\n",
       "      <td>1.0</td>\n",
       "      <td>1</td>\n",
       "      <td>-0.961221</td>\n",
       "    </tr>\n",
       "    <tr>\n",
       "      <th>7</th>\n",
       "      <td>AFG</td>\n",
       "      <td>2016</td>\n",
       "      <td>3</td>\n",
       "      <td>3</td>\n",
       "      <td>24.7</td>\n",
       "      <td>173.7</td>\n",
       "      <td>74.0</td>\n",
       "      <td>1.0</td>\n",
       "      <td>0</td>\n",
       "      <td>-1.176333</td>\n",
       "    </tr>\n",
       "    <tr>\n",
       "      <th>23</th>\n",
       "      <td>ALB</td>\n",
       "      <td>2012</td>\n",
       "      <td>10</td>\n",
       "      <td>9</td>\n",
       "      <td>25.7</td>\n",
       "      <td>176.8</td>\n",
       "      <td>80.2</td>\n",
       "      <td>0.0</td>\n",
       "      <td>0</td>\n",
       "      <td>-1.425032</td>\n",
       "    </tr>\n",
       "    <tr>\n",
       "      <th>24</th>\n",
       "      <td>ALB</td>\n",
       "      <td>2016</td>\n",
       "      <td>6</td>\n",
       "      <td>6</td>\n",
       "      <td>23.7</td>\n",
       "      <td>176.2</td>\n",
       "      <td>67.2</td>\n",
       "      <td>0.0</td>\n",
       "      <td>0</td>\n",
       "      <td>-1.711847</td>\n",
       "    </tr>\n",
       "    <tr>\n",
       "      <th>35</th>\n",
       "      <td>ALG</td>\n",
       "      <td>2012</td>\n",
       "      <td>39</td>\n",
       "      <td>29</td>\n",
       "      <td>24.8</td>\n",
       "      <td>174.3</td>\n",
       "      <td>66.9</td>\n",
       "      <td>2.0</td>\n",
       "      <td>1</td>\n",
       "      <td>2.155629</td>\n",
       "    </tr>\n",
       "  </tbody>\n",
       "</table>\n",
       "</div>"
      ],
      "text/plain": [
       "   team  year  athletes  events   age  height  weight  prev_medals  medals  \\\n",
       "6   AFG  2012         6       6  24.8   171.7    60.8          1.0       1   \n",
       "7   AFG  2016         3       3  24.7   173.7    74.0          1.0       0   \n",
       "23  ALB  2012        10       9  25.7   176.8    80.2          0.0       0   \n",
       "24  ALB  2016         6       6  23.7   176.2    67.2          0.0       0   \n",
       "35  ALG  2012        39      29  24.8   174.3    66.9          2.0       1   \n",
       "\n",
       "    predictions  \n",
       "6     -0.961221  \n",
       "7     -1.176333  \n",
       "23    -1.425032  \n",
       "24    -1.711847  \n",
       "35     2.155629  "
      ]
     },
     "execution_count": 261,
     "metadata": {},
     "output_type": "execute_result"
    }
   ],
   "source": [
    "test.head()"
   ]
  },
  {
   "cell_type": "markdown",
   "id": "a97383ce",
   "metadata": {},
   "source": [
    "We can see that there are negative values for predictions. This should not be possible so we would change all negative values to zero."
   ]
  },
  {
   "cell_type": "code",
   "execution_count": 262,
   "id": "d94b3180",
   "metadata": {},
   "outputs": [],
   "source": [
    "test.loc[test[\"predictions\"] < 0, \"predictions\"] = 0"
   ]
  },
  {
   "cell_type": "code",
   "execution_count": 263,
   "id": "ac465ff2",
   "metadata": {},
   "outputs": [
    {
     "data": {
      "text/html": [
       "<div>\n",
       "<style scoped>\n",
       "    .dataframe tbody tr th:only-of-type {\n",
       "        vertical-align: middle;\n",
       "    }\n",
       "\n",
       "    .dataframe tbody tr th {\n",
       "        vertical-align: top;\n",
       "    }\n",
       "\n",
       "    .dataframe thead th {\n",
       "        text-align: right;\n",
       "    }\n",
       "</style>\n",
       "<table border=\"1\" class=\"dataframe\">\n",
       "  <thead>\n",
       "    <tr style=\"text-align: right;\">\n",
       "      <th></th>\n",
       "      <th>team</th>\n",
       "      <th>year</th>\n",
       "      <th>athletes</th>\n",
       "      <th>events</th>\n",
       "      <th>age</th>\n",
       "      <th>height</th>\n",
       "      <th>weight</th>\n",
       "      <th>prev_medals</th>\n",
       "      <th>medals</th>\n",
       "      <th>predictions</th>\n",
       "    </tr>\n",
       "  </thead>\n",
       "  <tbody>\n",
       "    <tr>\n",
       "      <th>6</th>\n",
       "      <td>AFG</td>\n",
       "      <td>2012</td>\n",
       "      <td>6</td>\n",
       "      <td>6</td>\n",
       "      <td>24.8</td>\n",
       "      <td>171.7</td>\n",
       "      <td>60.8</td>\n",
       "      <td>1.0</td>\n",
       "      <td>1</td>\n",
       "      <td>0.000000</td>\n",
       "    </tr>\n",
       "    <tr>\n",
       "      <th>7</th>\n",
       "      <td>AFG</td>\n",
       "      <td>2016</td>\n",
       "      <td>3</td>\n",
       "      <td>3</td>\n",
       "      <td>24.7</td>\n",
       "      <td>173.7</td>\n",
       "      <td>74.0</td>\n",
       "      <td>1.0</td>\n",
       "      <td>0</td>\n",
       "      <td>0.000000</td>\n",
       "    </tr>\n",
       "    <tr>\n",
       "      <th>23</th>\n",
       "      <td>ALB</td>\n",
       "      <td>2012</td>\n",
       "      <td>10</td>\n",
       "      <td>9</td>\n",
       "      <td>25.7</td>\n",
       "      <td>176.8</td>\n",
       "      <td>80.2</td>\n",
       "      <td>0.0</td>\n",
       "      <td>0</td>\n",
       "      <td>0.000000</td>\n",
       "    </tr>\n",
       "    <tr>\n",
       "      <th>24</th>\n",
       "      <td>ALB</td>\n",
       "      <td>2016</td>\n",
       "      <td>6</td>\n",
       "      <td>6</td>\n",
       "      <td>23.7</td>\n",
       "      <td>176.2</td>\n",
       "      <td>67.2</td>\n",
       "      <td>0.0</td>\n",
       "      <td>0</td>\n",
       "      <td>0.000000</td>\n",
       "    </tr>\n",
       "    <tr>\n",
       "      <th>35</th>\n",
       "      <td>ALG</td>\n",
       "      <td>2012</td>\n",
       "      <td>39</td>\n",
       "      <td>29</td>\n",
       "      <td>24.8</td>\n",
       "      <td>174.3</td>\n",
       "      <td>66.9</td>\n",
       "      <td>2.0</td>\n",
       "      <td>1</td>\n",
       "      <td>2.155629</td>\n",
       "    </tr>\n",
       "  </tbody>\n",
       "</table>\n",
       "</div>"
      ],
      "text/plain": [
       "   team  year  athletes  events   age  height  weight  prev_medals  medals  \\\n",
       "6   AFG  2012         6       6  24.8   171.7    60.8          1.0       1   \n",
       "7   AFG  2016         3       3  24.7   173.7    74.0          1.0       0   \n",
       "23  ALB  2012        10       9  25.7   176.8    80.2          0.0       0   \n",
       "24  ALB  2016         6       6  23.7   176.2    67.2          0.0       0   \n",
       "35  ALG  2012        39      29  24.8   174.3    66.9          2.0       1   \n",
       "\n",
       "    predictions  \n",
       "6      0.000000  \n",
       "7      0.000000  \n",
       "23     0.000000  \n",
       "24     0.000000  \n",
       "35     2.155629  "
      ]
     },
     "execution_count": 263,
     "metadata": {},
     "output_type": "execute_result"
    }
   ],
   "source": [
    "test.head()"
   ]
  },
  {
   "cell_type": "markdown",
   "id": "bf3d16bd",
   "metadata": {},
   "source": [
    "Let's round up the numbers to whole numbers"
   ]
  },
  {
   "cell_type": "code",
   "execution_count": 264,
   "id": "f7211f5b",
   "metadata": {},
   "outputs": [],
   "source": [
    "test[\"predictions\"] = test[\"predictions\"].round().astype('int')"
   ]
  },
  {
   "cell_type": "code",
   "execution_count": 265,
   "id": "7f9c5036",
   "metadata": {},
   "outputs": [
    {
     "data": {
      "text/html": [
       "<div>\n",
       "<style scoped>\n",
       "    .dataframe tbody tr th:only-of-type {\n",
       "        vertical-align: middle;\n",
       "    }\n",
       "\n",
       "    .dataframe tbody tr th {\n",
       "        vertical-align: top;\n",
       "    }\n",
       "\n",
       "    .dataframe thead th {\n",
       "        text-align: right;\n",
       "    }\n",
       "</style>\n",
       "<table border=\"1\" class=\"dataframe\">\n",
       "  <thead>\n",
       "    <tr style=\"text-align: right;\">\n",
       "      <th></th>\n",
       "      <th>team</th>\n",
       "      <th>year</th>\n",
       "      <th>athletes</th>\n",
       "      <th>events</th>\n",
       "      <th>age</th>\n",
       "      <th>height</th>\n",
       "      <th>weight</th>\n",
       "      <th>prev_medals</th>\n",
       "      <th>medals</th>\n",
       "      <th>predictions</th>\n",
       "    </tr>\n",
       "  </thead>\n",
       "  <tbody>\n",
       "    <tr>\n",
       "      <th>6</th>\n",
       "      <td>AFG</td>\n",
       "      <td>2012</td>\n",
       "      <td>6</td>\n",
       "      <td>6</td>\n",
       "      <td>24.8</td>\n",
       "      <td>171.7</td>\n",
       "      <td>60.8</td>\n",
       "      <td>1.0</td>\n",
       "      <td>1</td>\n",
       "      <td>0</td>\n",
       "    </tr>\n",
       "    <tr>\n",
       "      <th>7</th>\n",
       "      <td>AFG</td>\n",
       "      <td>2016</td>\n",
       "      <td>3</td>\n",
       "      <td>3</td>\n",
       "      <td>24.7</td>\n",
       "      <td>173.7</td>\n",
       "      <td>74.0</td>\n",
       "      <td>1.0</td>\n",
       "      <td>0</td>\n",
       "      <td>0</td>\n",
       "    </tr>\n",
       "    <tr>\n",
       "      <th>23</th>\n",
       "      <td>ALB</td>\n",
       "      <td>2012</td>\n",
       "      <td>10</td>\n",
       "      <td>9</td>\n",
       "      <td>25.7</td>\n",
       "      <td>176.8</td>\n",
       "      <td>80.2</td>\n",
       "      <td>0.0</td>\n",
       "      <td>0</td>\n",
       "      <td>0</td>\n",
       "    </tr>\n",
       "    <tr>\n",
       "      <th>24</th>\n",
       "      <td>ALB</td>\n",
       "      <td>2016</td>\n",
       "      <td>6</td>\n",
       "      <td>6</td>\n",
       "      <td>23.7</td>\n",
       "      <td>176.2</td>\n",
       "      <td>67.2</td>\n",
       "      <td>0.0</td>\n",
       "      <td>0</td>\n",
       "      <td>0</td>\n",
       "    </tr>\n",
       "    <tr>\n",
       "      <th>35</th>\n",
       "      <td>ALG</td>\n",
       "      <td>2012</td>\n",
       "      <td>39</td>\n",
       "      <td>29</td>\n",
       "      <td>24.8</td>\n",
       "      <td>174.3</td>\n",
       "      <td>66.9</td>\n",
       "      <td>2.0</td>\n",
       "      <td>1</td>\n",
       "      <td>2</td>\n",
       "    </tr>\n",
       "  </tbody>\n",
       "</table>\n",
       "</div>"
      ],
      "text/plain": [
       "   team  year  athletes  events   age  height  weight  prev_medals  medals  \\\n",
       "6   AFG  2012         6       6  24.8   171.7    60.8          1.0       1   \n",
       "7   AFG  2016         3       3  24.7   173.7    74.0          1.0       0   \n",
       "23  ALB  2012        10       9  25.7   176.8    80.2          0.0       0   \n",
       "24  ALB  2016         6       6  23.7   176.2    67.2          0.0       0   \n",
       "35  ALG  2012        39      29  24.8   174.3    66.9          2.0       1   \n",
       "\n",
       "    predictions  \n",
       "6             0  \n",
       "7             0  \n",
       "23            0  \n",
       "24            0  \n",
       "35            2  "
      ]
     },
     "execution_count": 265,
     "metadata": {},
     "output_type": "execute_result"
    }
   ],
   "source": [
    "test.head()"
   ]
  },
  {
   "cell_type": "markdown",
   "id": "66228596",
   "metadata": {},
   "source": [
    "Now, we calculate the error using MAE and MSE, and also the accuracy using accuracy_score"
   ]
  },
  {
   "cell_type": "code",
   "execution_count": 266,
   "id": "2b3a8905",
   "metadata": {},
   "outputs": [
    {
     "data": {
      "text/plain": [
       "3.2987654320987656"
      ]
     },
     "execution_count": 266,
     "metadata": {},
     "output_type": "execute_result"
    }
   ],
   "source": [
    "# mean absolute error\n",
    "mae = MAE(test['medals'], test['predictions'])\n",
    "mae"
   ]
  },
  {
   "cell_type": "code",
   "execution_count": 267,
   "id": "1c5af097",
   "metadata": {},
   "outputs": [
    {
     "data": {
      "text/plain": [
       "65.42222222222222"
      ]
     },
     "execution_count": 267,
     "metadata": {},
     "output_type": "execute_result"
    }
   ],
   "source": [
    "# mean squared error\n",
    "mse = MSE(test['medals'], test['predictions'])\n",
    "mse"
   ]
  },
  {
   "cell_type": "code",
   "execution_count": 268,
   "id": "10ef57d3",
   "metadata": {},
   "outputs": [
    {
     "data": {
      "text/plain": [
       "0.5654320987654321"
      ]
     },
     "execution_count": 268,
     "metadata": {},
     "output_type": "execute_result"
    }
   ],
   "source": [
    "# accuracy\n",
    "acc = accuracy_score(test['medals'], test['predictions'])\n",
    "acc"
   ]
  },
  {
   "cell_type": "markdown",
   "id": "f7d290dd",
   "metadata": {},
   "source": [
    "The model is correct just above 50% of the time. A mean absolute error of 3.3 indicates that on average, we were within 3.3 medals of how many medals the team actually won."
   ]
  },
  {
   "cell_type": "markdown",
   "id": "de53fb95",
   "metadata": {},
   "source": [
    "## Transforming Variables"
   ]
  },
  {
   "cell_type": "markdown",
   "id": "1a62e178",
   "metadata": {},
   "source": [
    "Sometimes performing transformations on the predictor or target variable might make the linear model predict better. Here, we'll try to transform one of the variables and see if we can improve on the accuracy."
   ]
  },
  {
   "cell_type": "code",
   "execution_count": 269,
   "id": "56566bed",
   "metadata": {},
   "outputs": [],
   "source": [
    "# transform the target variable by taking the square root\n",
    "teams['medals_transform'] = teams['medals'] ** 0.5"
   ]
  },
  {
   "cell_type": "code",
   "execution_count": 270,
   "id": "9cb2e96c",
   "metadata": {},
   "outputs": [
    {
     "data": {
      "text/html": [
       "<div>\n",
       "<style scoped>\n",
       "    .dataframe tbody tr th:only-of-type {\n",
       "        vertical-align: middle;\n",
       "    }\n",
       "\n",
       "    .dataframe tbody tr th {\n",
       "        vertical-align: top;\n",
       "    }\n",
       "\n",
       "    .dataframe thead th {\n",
       "        text-align: right;\n",
       "    }\n",
       "</style>\n",
       "<table border=\"1\" class=\"dataframe\">\n",
       "  <thead>\n",
       "    <tr style=\"text-align: right;\">\n",
       "      <th></th>\n",
       "      <th>team</th>\n",
       "      <th>year</th>\n",
       "      <th>athletes</th>\n",
       "      <th>events</th>\n",
       "      <th>age</th>\n",
       "      <th>height</th>\n",
       "      <th>weight</th>\n",
       "      <th>prev_medals</th>\n",
       "      <th>medals</th>\n",
       "      <th>medals_transform</th>\n",
       "    </tr>\n",
       "  </thead>\n",
       "  <tbody>\n",
       "    <tr>\n",
       "      <th>0</th>\n",
       "      <td>AFG</td>\n",
       "      <td>1964</td>\n",
       "      <td>8</td>\n",
       "      <td>8</td>\n",
       "      <td>22.0</td>\n",
       "      <td>161.0</td>\n",
       "      <td>64.2</td>\n",
       "      <td>0.0</td>\n",
       "      <td>0</td>\n",
       "      <td>0.0</td>\n",
       "    </tr>\n",
       "    <tr>\n",
       "      <th>1</th>\n",
       "      <td>AFG</td>\n",
       "      <td>1968</td>\n",
       "      <td>5</td>\n",
       "      <td>5</td>\n",
       "      <td>23.2</td>\n",
       "      <td>170.2</td>\n",
       "      <td>70.0</td>\n",
       "      <td>0.0</td>\n",
       "      <td>0</td>\n",
       "      <td>0.0</td>\n",
       "    </tr>\n",
       "    <tr>\n",
       "      <th>2</th>\n",
       "      <td>AFG</td>\n",
       "      <td>1972</td>\n",
       "      <td>8</td>\n",
       "      <td>8</td>\n",
       "      <td>29.0</td>\n",
       "      <td>168.3</td>\n",
       "      <td>63.8</td>\n",
       "      <td>0.0</td>\n",
       "      <td>0</td>\n",
       "      <td>0.0</td>\n",
       "    </tr>\n",
       "    <tr>\n",
       "      <th>3</th>\n",
       "      <td>AFG</td>\n",
       "      <td>1980</td>\n",
       "      <td>11</td>\n",
       "      <td>11</td>\n",
       "      <td>23.6</td>\n",
       "      <td>168.4</td>\n",
       "      <td>63.2</td>\n",
       "      <td>0.0</td>\n",
       "      <td>0</td>\n",
       "      <td>0.0</td>\n",
       "    </tr>\n",
       "    <tr>\n",
       "      <th>4</th>\n",
       "      <td>AFG</td>\n",
       "      <td>2004</td>\n",
       "      <td>5</td>\n",
       "      <td>5</td>\n",
       "      <td>18.6</td>\n",
       "      <td>170.8</td>\n",
       "      <td>64.8</td>\n",
       "      <td>0.0</td>\n",
       "      <td>0</td>\n",
       "      <td>0.0</td>\n",
       "    </tr>\n",
       "  </tbody>\n",
       "</table>\n",
       "</div>"
      ],
      "text/plain": [
       "  team  year  athletes  events   age  height  weight  prev_medals  medals  \\\n",
       "0  AFG  1964         8       8  22.0   161.0    64.2          0.0       0   \n",
       "1  AFG  1968         5       5  23.2   170.2    70.0          0.0       0   \n",
       "2  AFG  1972         8       8  29.0   168.3    63.8          0.0       0   \n",
       "3  AFG  1980        11      11  23.6   168.4    63.2          0.0       0   \n",
       "4  AFG  2004         5       5  18.6   170.8    64.8          0.0       0   \n",
       "\n",
       "   medals_transform  \n",
       "0               0.0  \n",
       "1               0.0  \n",
       "2               0.0  \n",
       "3               0.0  \n",
       "4               0.0  "
      ]
     },
     "execution_count": 270,
     "metadata": {},
     "output_type": "execute_result"
    }
   ],
   "source": [
    "teams.head()"
   ]
  },
  {
   "cell_type": "code",
   "execution_count": 271,
   "id": "faa28d08",
   "metadata": {},
   "outputs": [
    {
     "data": {
      "text/plain": [
       "<AxesSubplot:xlabel='athletes', ylabel='medals_transform'>"
      ]
     },
     "execution_count": 271,
     "metadata": {},
     "output_type": "execute_result"
    },
    {
     "data": {
      "image/png": "[encoded data removed]",
      "text/plain": [
       "<Figure size 432x288 with 1 Axes>"
      ]
     },
     "metadata": {
      "needs_background": "light"
     },
     "output_type": "display_data"
    }
   ],
   "source": [
    "sns.scatterplot(x='athletes', y='medals_transform', data=teams, color=color)"
   ]
  },
  {
   "cell_type": "markdown",
   "id": "df158bbc",
   "metadata": {},
   "source": [
    "The graph is already looking more linear than earlier. This is a good sign."
   ]
  },
  {
   "cell_type": "code",
   "execution_count": 272,
   "id": "9e7e4dbc",
   "metadata": {},
   "outputs": [],
   "source": [
    "train = teams[teams['year'] < 2012]\n",
    "test = teams[teams['year'] >= 2012]"
   ]
  },
  {
   "cell_type": "code",
   "execution_count": 273,
   "id": "f6e750f9",
   "metadata": {},
   "outputs": [
    {
     "data": {
      "text/plain": [
       "LinearRegression()"
      ]
     },
     "execution_count": 273,
     "metadata": {},
     "output_type": "execute_result"
    }
   ],
   "source": [
    "# fit model with new target variable\n",
    "reg.fit(train[predictors], train['medals_transform'])"
   ]
  },
  {
   "cell_type": "code",
   "execution_count": 274,
   "id": "343f3ef1",
   "metadata": {},
   "outputs": [],
   "source": [
    "# make predictions\n",
    "result = reg.predict(test[predictors])"
   ]
  },
  {
   "cell_type": "code",
   "execution_count": 275,
   "id": "3df4935c",
   "metadata": {},
   "outputs": [],
   "source": [
    "# put predictions inside the test dataframe to compare\n",
    "test['predictions'] = result"
   ]
  },
  {
   "cell_type": "code",
   "execution_count": 276,
   "id": "51549d15",
   "metadata": {},
   "outputs": [],
   "source": [
    "test.loc[test[\"predictions\"] < 0, \"predictions\"] = 0"
   ]
  },
  {
   "cell_type": "code",
   "execution_count": 277,
   "id": "6b94e509",
   "metadata": {},
   "outputs": [],
   "source": [
    "test[\"predictions\"] = test[\"predictions\"].round().astype('int')"
   ]
  },
  {
   "cell_type": "code",
   "execution_count": 278,
   "id": "5b97f742",
   "metadata": {},
   "outputs": [],
   "source": [
    "# round medals transform to the nearest whole number and convert to integer\n",
    "test[\"medals_transform\"] = test[\"medals_transform\"].round().astype('int')"
   ]
  },
  {
   "cell_type": "code",
   "execution_count": 279,
   "id": "d6cda7dc",
   "metadata": {},
   "outputs": [
    {
     "data": {
      "text/html": [
       "<div>\n",
       "<style scoped>\n",
       "    .dataframe tbody tr th:only-of-type {\n",
       "        vertical-align: middle;\n",
       "    }\n",
       "\n",
       "    .dataframe tbody tr th {\n",
       "        vertical-align: top;\n",
       "    }\n",
       "\n",
       "    .dataframe thead th {\n",
       "        text-align: right;\n",
       "    }\n",
       "</style>\n",
       "<table border=\"1\" class=\"dataframe\">\n",
       "  <thead>\n",
       "    <tr style=\"text-align: right;\">\n",
       "      <th></th>\n",
       "      <th>team</th>\n",
       "      <th>year</th>\n",
       "      <th>athletes</th>\n",
       "      <th>events</th>\n",
       "      <th>age</th>\n",
       "      <th>height</th>\n",
       "      <th>weight</th>\n",
       "      <th>prev_medals</th>\n",
       "      <th>medals</th>\n",
       "      <th>medals_transform</th>\n",
       "      <th>predictions</th>\n",
       "    </tr>\n",
       "  </thead>\n",
       "  <tbody>\n",
       "    <tr>\n",
       "      <th>6</th>\n",
       "      <td>AFG</td>\n",
       "      <td>2012</td>\n",
       "      <td>6</td>\n",
       "      <td>6</td>\n",
       "      <td>24.8</td>\n",
       "      <td>171.7</td>\n",
       "      <td>60.8</td>\n",
       "      <td>1.0</td>\n",
       "      <td>1</td>\n",
       "      <td>1</td>\n",
       "      <td>0</td>\n",
       "    </tr>\n",
       "    <tr>\n",
       "      <th>7</th>\n",
       "      <td>AFG</td>\n",
       "      <td>2016</td>\n",
       "      <td>3</td>\n",
       "      <td>3</td>\n",
       "      <td>24.7</td>\n",
       "      <td>173.7</td>\n",
       "      <td>74.0</td>\n",
       "      <td>1.0</td>\n",
       "      <td>0</td>\n",
       "      <td>0</td>\n",
       "      <td>0</td>\n",
       "    </tr>\n",
       "    <tr>\n",
       "      <th>23</th>\n",
       "      <td>ALB</td>\n",
       "      <td>2012</td>\n",
       "      <td>10</td>\n",
       "      <td>9</td>\n",
       "      <td>25.7</td>\n",
       "      <td>176.8</td>\n",
       "      <td>80.2</td>\n",
       "      <td>0.0</td>\n",
       "      <td>0</td>\n",
       "      <td>0</td>\n",
       "      <td>0</td>\n",
       "    </tr>\n",
       "    <tr>\n",
       "      <th>24</th>\n",
       "      <td>ALB</td>\n",
       "      <td>2016</td>\n",
       "      <td>6</td>\n",
       "      <td>6</td>\n",
       "      <td>23.7</td>\n",
       "      <td>176.2</td>\n",
       "      <td>67.2</td>\n",
       "      <td>0.0</td>\n",
       "      <td>0</td>\n",
       "      <td>0</td>\n",
       "      <td>0</td>\n",
       "    </tr>\n",
       "    <tr>\n",
       "      <th>35</th>\n",
       "      <td>ALG</td>\n",
       "      <td>2012</td>\n",
       "      <td>39</td>\n",
       "      <td>29</td>\n",
       "      <td>24.8</td>\n",
       "      <td>174.3</td>\n",
       "      <td>66.9</td>\n",
       "      <td>2.0</td>\n",
       "      <td>1</td>\n",
       "      <td>1</td>\n",
       "      <td>1</td>\n",
       "    </tr>\n",
       "  </tbody>\n",
       "</table>\n",
       "</div>"
      ],
      "text/plain": [
       "   team  year  athletes  events   age  height  weight  prev_medals  medals  \\\n",
       "6   AFG  2012         6       6  24.8   171.7    60.8          1.0       1   \n",
       "7   AFG  2016         3       3  24.7   173.7    74.0          1.0       0   \n",
       "23  ALB  2012        10       9  25.7   176.8    80.2          0.0       0   \n",
       "24  ALB  2016         6       6  23.7   176.2    67.2          0.0       0   \n",
       "35  ALG  2012        39      29  24.8   174.3    66.9          2.0       1   \n",
       "\n",
       "    medals_transform  predictions  \n",
       "6                  1            0  \n",
       "7                  0            0  \n",
       "23                 0            0  \n",
       "24                 0            0  \n",
       "35                 1            1  "
      ]
     },
     "execution_count": 279,
     "metadata": {},
     "output_type": "execute_result"
    }
   ],
   "source": [
    "test.head()"
   ]
  },
  {
   "cell_type": "code",
   "execution_count": 280,
   "id": "b49544da",
   "metadata": {},
   "outputs": [
    {
     "data": {
      "text/plain": [
       "0.5234567901234568"
      ]
     },
     "execution_count": 280,
     "metadata": {},
     "output_type": "execute_result"
    }
   ],
   "source": [
    "# mean absolute error\n",
    "mae = MAE(test['medals_transform'], test['predictions'])\n",
    "mae"
   ]
  },
  {
   "cell_type": "code",
   "execution_count": 281,
   "id": "f27644db",
   "metadata": {},
   "outputs": [
    {
     "data": {
      "text/plain": [
       "0.9432098765432099"
      ]
     },
     "execution_count": 281,
     "metadata": {},
     "output_type": "execute_result"
    }
   ],
   "source": [
    "# mean squared error\n",
    "mse = MSE(test['medals_transform'], test['predictions'])\n",
    "mse"
   ]
  },
  {
   "cell_type": "code",
   "execution_count": 282,
   "id": "4230127e",
   "metadata": {},
   "outputs": [
    {
     "data": {
      "text/plain": [
       "0.6296296296296297"
      ]
     },
     "execution_count": 282,
     "metadata": {},
     "output_type": "execute_result"
    }
   ],
   "source": [
    "# accuracy\n",
    "acc = accuracy_score(test['medals_transform'], test['predictions'])\n",
    "acc"
   ]
  },
  {
   "cell_type": "markdown",
   "id": "4e83af58",
   "metadata": {},
   "source": [
    "Nice! Transforming the target variable by taking the square root has increased the accuracy up to approximately 63%. \n",
    "\n",
    "The mean absolute error is also down below 1. This is very good as it means that on average we are within approximately 1 medal of how many medals a team actually won."
   ]
  },
  {
   "cell_type": "markdown",
   "id": "40931a57",
   "metadata": {},
   "source": [
    "-------------------------------------------------------------------------------------------------------------------------------"
   ]
  }
 ],
 "metadata": {
  "kernelspec": {
   "display_name": "Python 3",
   "language": "python",
   "name": "python3"
  },
  "language_info": {
   "codemirror_mode": {
    "name": "ipython",
    "version": 3
   },
   "file_extension": ".py",
   "mimetype": "text/x-python",
   "name": "python",
   "nbconvert_exporter": "python",
   "pygments_lexer": "ipython3",
   "version": "3.8.8"
  }
 },
 "nbformat": 4,
 "nbformat_minor": 5
}
